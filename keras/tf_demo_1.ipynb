{
 "cells": [
  {
   "cell_type": "markdown",
   "metadata": {},
   "source": [
    "### Copy and Paste from Tensorflow Tutorial with slight modification\n",
    "\n",
    "From this link: https://www.tensorflow.org/tutorials\n",
    "\n",
    "pure copy and paste with comments added"
   ]
  },
  {
   "cell_type": "code",
   "execution_count": 2,
   "metadata": {},
   "outputs": [
    {
     "name": "stdout",
     "output_type": "stream",
     "text": [
      "Epoch 1/5\n",
      "60000/60000 [==============================] - 20s 336us/sample - loss: 0.2204 - acc: 0.9347\n",
      "Epoch 2/5\n",
      "60000/60000 [==============================] - 22s 369us/sample - loss: 0.0974 - acc: 0.9701\n",
      "Epoch 3/5\n",
      "60000/60000 [==============================] - 22s 368us/sample - loss: 0.0681 - acc: 0.9788\n",
      "Epoch 4/5\n",
      "60000/60000 [==============================] - 21s 357us/sample - loss: 0.0532 - acc: 0.9827\n",
      "Epoch 5/5\n",
      "60000/60000 [==============================] - 22s 369us/sample - loss: 0.0427 - acc: 0.9862\n",
      "10000/10000 [==============================] - 1s 63us/sample - loss: 0.0593 - acc: 0.9819\n"
     ]
    },
    {
     "data": {
      "text/plain": [
       "[0.05931941043589031, 0.9819]"
      ]
     },
     "execution_count": 2,
     "metadata": {},
     "output_type": "execute_result"
    }
   ],
   "source": [
    "# this line imports the tensorflow module and uses the name 'tf' to reference it\n",
    "import tensorflow as tf\n",
    "\n",
    "# tensorflow comes with utility to download common datasets used in novice ML, such as MNIST\n",
    "\n",
    "mnist = tf.keras.datasets.mnist\n",
    "\n",
    "# this line tells the code to download the data and cache it\n",
    "(x_train, y_train),(x_test, y_test) = mnist.load_data()\n",
    "\n",
    "# this 'normalize' the data from 0 - 255 integer value to 0.0 to 1.0 float values\n",
    "x_train, x_test = x_train / 255.0, x_test / 255.0\n",
    "\n",
    "# the model => \n",
    "# first layer converts 28x28 array into a single 786 'flattened' input\n",
    "# the second layer - the hidden layer - has fully connected 512 nodes. It uses 'relu' activation. More on theory later\n",
    "# there is a 'Dropout' layer that randomly zeros about the percentage of connections between the layers\n",
    "# the final layer - the output layer - has 10 nodes and uses 'softmax' activation where each node represents\n",
    "# the probability for each digit.  The sum of all the node value will equal 1.0\n",
    "\n",
    "model = tf.keras.models.Sequential([\n",
    "  tf.keras.layers.Flatten(input_shape=(28, 28)),\n",
    "  tf.keras.layers.Dense(512, activation=tf.nn.relu),\n",
    "  tf.keras.layers.Dropout(0.2),\n",
    "  tf.keras.layers.Dense(10, activation=tf.nn.softmax)\n",
    "])\n",
    "\n",
    "# you tell keras/tf to compile the model for use\n",
    "# adam is one of the quicker fitting optimizer\n",
    "# sparse_categorical_crossentropy is the 'loss' function to minimize. You are trying to minimize the weights to\n",
    "# have output match the 'label' tied to the digit\n",
    "model.compile(optimizer='adam',\n",
    "              loss='sparse_categorical_crossentropy',\n",
    "              metrics=['accuracy'])\n",
    "\n",
    "# the 'fit' command starts the training\n",
    "model.fit(x_train, y_train, epochs=5)\n",
    "\n",
    "# the 'evalate' generates how well the model did against the test data. First value is the loss and the second\n",
    "# value is the accuracy\n",
    "\n",
    "model.evaluate(x_test, y_test)\n"
   ]
  },
  {
   "cell_type": "markdown",
   "metadata": {},
   "source": [
    "### slightly modified\n",
    "Because Keras can leverage backends other than Tensorflow, you should try to make the \"code\" more generic\n",
    "\n",
    "See [keras_ann.ipynb](keras_ann.ipynb) that does the same but provide more information\n"
   ]
  },
  {
   "cell_type": "code",
   "execution_count": null,
   "metadata": {},
   "outputs": [],
   "source": []
  }
 ],
 "metadata": {
  "kernelspec": {
   "display_name": "Python 3",
   "language": "python",
   "name": "python3"
  },
  "language_info": {
   "codemirror_mode": {
    "name": "ipython",
    "version": 3
   },
   "file_extension": ".py",
   "mimetype": "text/x-python",
   "name": "python",
   "nbconvert_exporter": "python",
   "pygments_lexer": "ipython3",
   "version": "3.6.8"
  }
 },
 "nbformat": 4,
 "nbformat_minor": 2
}
