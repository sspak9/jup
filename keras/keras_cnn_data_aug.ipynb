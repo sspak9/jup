{
 "cells": [
  {
   "cell_type": "markdown",
   "metadata": {},
   "source": [
    "### data augumentation using Keras\n",
    "on MNIST data\n"
   ]
  },
  {
   "cell_type": "code",
   "execution_count": null,
   "metadata": {},
   "outputs": [],
   "source": [
    "import numpy as np\n",
    "#from tensorflow import keras\n",
    "import keras\n",
    "\n",
    "print('keras version:', keras.__version__)\n",
    "print('keras backend:', keras.backend.backend())\n",
    "print('keras image format:', keras.backend.image_data_format())"
   ]
  },
  {
   "cell_type": "code",
   "execution_count": null,
   "metadata": {},
   "outputs": [],
   "source": [
    "data = keras.datasets.mnist\n",
    "(x_train, y_train), (x_test, y_test) = data.load_data()"
   ]
  },
  {
   "cell_type": "code",
   "execution_count": null,
   "metadata": {},
   "outputs": [],
   "source": [
    "# show information about the downloaded data\n",
    "\n",
    "print('train shape:', x_train.shape)\n",
    "print('train y:', y_train.shape)\n",
    "print('test_shape:', x_test.shape)\n",
    "print('test y:', y_test.shape)\n",
    "\n",
    "\n",
    "num_labels = len(np.unique(y_train))\n",
    "image_size = x_train.shape[2]\n",
    "\n",
    "print('num of labels:', num_labels)\n",
    "print('image size:', image_size)\n",
    "\n",
    "# calculate input shape and number of channels\n",
    "is_channels_first = (keras.backend.image_data_format() == 'channels_first')\n",
    "shape_len = len(x_train.shape)\n",
    "\n",
    "if shape_len == 3:\n",
    "    num_channels = 1\n",
    "else:\n",
    "    num_channels = 3\n",
    "\n",
    "if is_channels_first:\n",
    "    input_shape = (num_channels , image_szie , image_size)\n",
    "else:\n",
    "    input_shape = ( image_size , image_size , num_channels)\n",
    "\n",
    "print('input shape:', input_shape)"
   ]
  },
  {
   "cell_type": "code",
   "execution_count": null,
   "metadata": {},
   "outputs": [],
   "source": [
    "# convert the shape of data depending on the image data format\n",
    "\n",
    "if is_channels_first :\n",
    "    x_train2 = x_train.reshape(x_train.shape[0], num_channels, image_size, image_size)\n",
    "    x_test2 = x_test.reshape(x_test.shape[0], num_channels, image_size, image_size)\n",
    "else:\n",
    "    x_train2 = x_train.reshape(x_train.shape[0], image_size, image_size, num_channels)\n",
    "    x_test2 = x_test.reshape(x_test.shape[0], image_size, image_size, num_channels)\n"
   ]
  },
  {
   "cell_type": "code",
   "execution_count": null,
   "metadata": {},
   "outputs": [],
   "source": [
    "# normalize the data: 0.0 to 1.0\n",
    "\n",
    "x_train2 = x_train2.astype('float32') / 255\n",
    "x_test2 = x_test2.astype('float32') / 255\n",
    "\n",
    "#hot encode\n",
    "y_train2 = keras.utils.to_categorical(y_train)\n",
    "y_test2 = keras.utils.to_categorical(y_test)"
   ]
  },
  {
   "cell_type": "code",
   "execution_count": null,
   "metadata": {},
   "outputs": [],
   "source": [
    "# show info about reshaped data\n",
    "\n",
    "print(\"revised x_train shape:\", x_train2.shape)\n",
    "print('revised y_train shape:', y_train2.shape)\n",
    "print('revised x_test shape:', x_test2.shape)\n",
    "print('revised y_test shape:', y_test2.shape)\n",
    "print('input shape:',input_shape)"
   ]
  },
  {
   "cell_type": "code",
   "execution_count": null,
   "metadata": {},
   "outputs": [],
   "source": [
    "num_hidden_layers = 512\n",
    "\n",
    "print('hidden dense layer size:', num_hidden_layers)"
   ]
  },
  {
   "cell_type": "code",
   "execution_count": null,
   "metadata": {},
   "outputs": [],
   "source": [
    "#model\n",
    "model = keras.models.Sequential()\n",
    "model.add( keras.layers.Conv2D(32, kernel_size=(3,3), input_shape=input_shape , activation='relu' ))\n",
    "model.add( keras.layers.MaxPooling2D(pool_size=(2,2)))\n",
    "\n",
    "model.add( keras.layers.Conv2D(64, kernel_size=(3,3), activation='relu' ))\n",
    "model.add( keras.layers.MaxPooling2D(pool_size=(2,2)))\n",
    "\n",
    "model.add( keras.layers.Dropout(0.5))\n",
    "\n",
    "model.add( keras.layers.Flatten())\n",
    "model.add( keras.layers.Dense(num_hidden_layers, activation='relu'))\n",
    "\n",
    "model.add( keras.layers.Dropout(0.5))\n",
    "model.add( keras.layers.Dense(10, activation='softmax'))\n",
    "\n",
    "# compile to model\n",
    "model.compile(optimizer='adam',\n",
    "              loss='categorical_crossentropy',\n",
    "              metrics=['accuracy'])\n",
    "\n",
    "# show summary\n",
    "model.summary()"
   ]
  },
  {
   "cell_type": "code",
   "execution_count": null,
   "metadata": {},
   "outputs": [],
   "source": [
    "#train the model with train data for few runs to setup the weights\n",
    "\n",
    "fit_history = model.fit(x_train2, y_train2,\n",
    "epochs=10,\n",
    "batch_size=128,\n",
    "validation_data=(x_test2,y_test2)\n",
    ")"
   ]
  },
  {
   "cell_type": "code",
   "execution_count": null,
   "metadata": {},
   "outputs": [],
   "source": [
    "# create dirs to hold logs and models so you can review them later\n",
    "\n",
    "import os\n",
    "import time\n",
    "\n",
    "# helper function to create unique sub folder\n",
    "def create_folder(folder_name):\n",
    "    if (not os.path.exists(folder_name)):\n",
    "        os.makedirs(folder_name)\n",
    "    new_dir = folder_name + \"/{}\".format(time.time())\n",
    "    if (not os.path.exists(new_dir)):\n",
    "        os.makedirs(new_dir)\n",
    "    return new_dir\n",
    "\n",
    "log_dir = create_folder('logs')\n",
    "model_dir = create_folder('models')\n"
   ]
  },
  {
   "cell_type": "code",
   "execution_count": null,
   "metadata": {},
   "outputs": [],
   "source": [
    "# define how to save snapshots of model states during training\n",
    "checkpt_path=model_dir+'/va{val_acc:.5f}-ep{epoch:04d}-ac{acc:.5f}-vl{val_loss:.5f}-l{loss:.5f}.hdf5'\n",
    "cp_callback = keras.callbacks.ModelCheckpoint(\n",
    "  checkpt_path ,\n",
    "  verbose=1\n",
    ")"
   ]
  },
  {
   "cell_type": "code",
   "execution_count": null,
   "metadata": {},
   "outputs": [],
   "source": [
    "# setup to capture log so that you can view it from tensorflow dashboard\n",
    "# comment this out if you are NOT using tensorflow\n",
    "\n",
    "#import tensorflow as tf\n",
    "#tf_callback = tf.keras.callbacks.TensorBoard(log_dir=log_dir)\n"
   ]
  },
  {
   "cell_type": "code",
   "execution_count": null,
   "metadata": {},
   "outputs": [],
   "source": [
    "# use datagen to 'augment' the training data\n",
    "# tweak the parameters to get better results\n",
    "\n",
    "datagen = keras.preprocessing.image.ImageDataGenerator(\n",
    "  rotation_range = 25,\n",
    "  width_shift_range=0.10,\n",
    "  height_shift_range=0.10,\n",
    "  zoom_range = 0.10\n",
    ")"
   ]
  },
  {
   "cell_type": "code",
   "execution_count": null,
   "metadata": {},
   "outputs": [],
   "source": [
    "batch_size = 128\n",
    "epochs = 300\n",
    "\n",
    "print('batch size:', batch_size)\n",
    "print('epochs:', epochs)"
   ]
  },
  {
   "cell_type": "code",
   "execution_count": null,
   "metadata": {},
   "outputs": [],
   "source": [
    "# run data augumentation based training\n",
    "# add in tf_callback if using tensorflow so you can monitor the progress using tf dashboard\n",
    "\n",
    "fit_history2 = model.fit_generator(\n",
    "  datagen.flow(x_train2,y_train2,batch_size=batch_size),\n",
    "  steps_per_epoch = int(len(x_train2) / batch_size),\n",
    "  epochs = epochs,\n",
    "  validation_data = (x_test2, y_test2),\n",
    "  #workers=4, \n",
    "  callbacks=[cp_callback]\n",
    ")"
   ]
  },
  {
   "cell_type": "code",
   "execution_count": null,
   "metadata": {},
   "outputs": [],
   "source": []
  }
 ],
 "metadata": {
  "kernelspec": {
   "display_name": "Python 3",
   "language": "python",
   "name": "python3"
  },
  "language_info": {
   "codemirror_mode": {
    "name": "ipython",
    "version": 3
   },
   "file_extension": ".py",
   "mimetype": "text/x-python",
   "name": "python",
   "nbconvert_exporter": "python",
   "pygments_lexer": "ipython3",
   "version": "3.6.8"
  }
 },
 "nbformat": 4,
 "nbformat_minor": 2
}
