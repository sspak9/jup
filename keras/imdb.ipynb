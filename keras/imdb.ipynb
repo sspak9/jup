{
 "cells": [
  {
   "cell_type": "markdown",
   "metadata": {},
   "source": [
    "### tensorflow text classification from the web site\n",
    "\n",
    "https://www.tensorflow.org/tutorials/keras/basic_text_classification\n",
    "\n",
    "The purpose is to predict the movie review \"sentiment\" as either positive or negative\n",
    "\n",
    "display what backend I am using"
   ]
  },
  {
   "cell_type": "code",
   "execution_count": 1,
   "metadata": {},
   "outputs": [
    {
     "name": "stdout",
     "output_type": "stream",
     "text": [
      "backend: tensorflow\n",
      "version: 2.2.4-tf\n"
     ]
    }
   ],
   "source": [
    "from tensorflow import keras\n",
    "#import keras\n",
    "import numpy as np\n",
    "\n",
    "print('backend:',keras.backend.backend())\n",
    "print('version:', keras.__version__)"
   ]
  },
  {
   "cell_type": "markdown",
   "metadata": {},
   "source": [
    "#### define the model here\n",
    "I purposely put the model here because some backends ( such as plaidml ) complained about invalid config/setup\n",
    "```python\n",
    "vocab_size = 50000\n",
    "```\n",
    "the `vocab_size` determines how many vocabulary to use. The vocabulary index that is beyond this number will be shown with `<UNK>` tag\n"
   ]
  },
  {
   "cell_type": "code",
   "execution_count": 2,
   "metadata": {},
   "outputs": [
    {
     "name": "stderr",
     "output_type": "stream",
     "text": [
      "WARNING: Logging before flag parsing goes to stderr.\n",
      "W0706 16:23:55.955316  3244 deprecation.py:506] From f:\\program files\\python36\\lib\\site-packages\\tensorflow\\python\\keras\\initializers.py:119: calling RandomUniform.__init__ (from tensorflow.python.ops.init_ops) with dtype is deprecated and will be removed in a future version.\n",
      "Instructions for updating:\n",
      "Call initializer instance with the dtype argument instead of passing it to the constructor\n"
     ]
    },
    {
     "name": "stdout",
     "output_type": "stream",
     "text": [
      "Model: \"sequential\"\n",
      "_________________________________________________________________\n",
      "Layer (type)                 Output Shape              Param #   \n",
      "=================================================================\n",
      "embedding (Embedding)        (None, 256, 16)           800000    \n",
      "_________________________________________________________________\n",
      "global_average_pooling1d (Gl (None, 16)                0         \n",
      "_________________________________________________________________\n",
      "dense (Dense)                (None, 16)                272       \n",
      "_________________________________________________________________\n",
      "dense_1 (Dense)              (None, 1)                 17        \n",
      "=================================================================\n",
      "Total params: 800,289\n",
      "Trainable params: 800,289\n",
      "Non-trainable params: 0\n",
      "_________________________________________________________________\n"
     ]
    }
   ],
   "source": [
    "# input shape is the vocabulary count used for the movie reviews \n",
    "vocab_size = 50000\n",
    "\n",
    "model = keras.Sequential()\n",
    "model.add(keras.layers.Embedding(vocab_size, 16, input_length=256))\n",
    "model.add(keras.layers.GlobalAveragePooling1D())\n",
    "model.add(keras.layers.Dense(16, activation='relu'))\n",
    "model.add(keras.layers.Dense(1, activation='sigmoid'))\n",
    "\n",
    "model.summary()"
   ]
  },
  {
   "cell_type": "markdown",
   "metadata": {},
   "source": [
    "#### download the data\n",
    "The data already has been \"converted\" from text to numbers"
   ]
  },
  {
   "cell_type": "code",
   "execution_count": 3,
   "metadata": {},
   "outputs": [],
   "source": [
    "imdb = keras.datasets.imdb\n",
    "\n",
    "(train_data, train_labels), (test_data, test_labels) = imdb.load_data(num_words=vocab_size)\n"
   ]
  },
  {
   "cell_type": "markdown",
   "metadata": {},
   "source": [
    "#### show sample size and content"
   ]
  },
  {
   "cell_type": "code",
   "execution_count": 4,
   "metadata": {},
   "outputs": [
    {
     "name": "stdout",
     "output_type": "stream",
     "text": [
      "Training entries: 25000, labels: 25000\n",
      "Test entries: 25000, labels: 25000\n"
     ]
    }
   ],
   "source": [
    "print(\"Training entries: {}, labels: {}\".format(len(train_data), len(train_labels)))\n",
    "print(\"Test entries: {}, labels: {}\".format(len(test_data), len(test_labels)))"
   ]
  },
  {
   "cell_type": "code",
   "execution_count": 5,
   "metadata": {},
   "outputs": [
    {
     "name": "stdout",
     "output_type": "stream",
     "text": [
      "[1, 14, 22, 16, 43, 530, 973, 1622, 1385, 65, 458, 4468, 66, 3941, 4, 173, 36, 256, 5, 25, 100, 43, 838, 112, 50, 670, 22665, 9, 35, 480, 284, 5, 150, 4, 172, 112, 167, 21631, 336, 385, 39, 4, 172, 4536, 1111, 17, 546, 38, 13, 447, 4, 192, 50, 16, 6, 147, 2025, 19, 14, 22, 4, 1920, 4613, 469, 4, 22, 71, 87, 12, 16, 43, 530, 38, 76, 15, 13, 1247, 4, 22, 17, 515, 17, 12, 16, 626, 18, 19193, 5, 62, 386, 12, 8, 316, 8, 106, 5, 4, 2223, 5244, 16, 480, 66, 3785, 33, 4, 130, 12, 16, 38, 619, 5, 25, 124, 51, 36, 135, 48, 25, 1415, 33, 6, 22, 12, 215, 28, 77, 52, 5, 14, 407, 16, 82, 10311, 8, 4, 107, 117, 5952, 15, 256, 4, 31050, 7, 3766, 5, 723, 36, 71, 43, 530, 476, 26, 400, 317, 46, 7, 4, 12118, 1029, 13, 104, 88, 4, 381, 15, 297, 98, 32, 2071, 56, 26, 141, 6, 194, 7486, 18, 4, 226, 22, 21, 134, 476, 26, 480, 5, 144, 30, 5535, 18, 51, 36, 28, 224, 92, 25, 104, 4, 226, 65, 16, 38, 1334, 88, 12, 16, 283, 5, 16, 4472, 113, 103, 32, 15, 16, 5345, 19, 178, 32]\n"
     ]
    }
   ],
   "source": [
    "print(train_data[0])\n"
   ]
  },
  {
   "cell_type": "markdown",
   "metadata": {},
   "source": [
    "#### not every data (review) has the same length, so we have to \"pad\" the data\n",
    "For this run, we are using 265 as the max length of the review."
   ]
  },
  {
   "cell_type": "code",
   "execution_count": 6,
   "metadata": {},
   "outputs": [
    {
     "data": {
      "text/plain": [
       "(218, 189)"
      ]
     },
     "execution_count": 6,
     "metadata": {},
     "output_type": "execute_result"
    }
   ],
   "source": [
    "len(train_data[0]), len(train_data[1])\n"
   ]
  },
  {
   "cell_type": "code",
   "execution_count": 7,
   "metadata": {},
   "outputs": [],
   "source": [
    "# A dictionary mapping words to an integer index\n",
    "word_index = imdb.get_word_index()\n",
    "\n",
    "# The first indices are reserved\n",
    "word_index = {k:(v+3) for k,v in word_index.items()} \n",
    "word_index[\"<PAD>\"] = 0\n",
    "word_index[\"<START>\"] = 1\n",
    "word_index[\"<UNK>\"] = 2  # unknown\n",
    "word_index[\"<UNUSED>\"] = 3\n",
    "\n",
    "reverse_word_index = dict([(value, key) for (key, value) in word_index.items()])\n",
    "\n",
    "def decode_review(text):\n",
    "    return ' '.join([reverse_word_index.get(i, '?') for i in text])\n"
   ]
  },
  {
   "cell_type": "markdown",
   "metadata": {},
   "source": [
    "#### keras has the padding method"
   ]
  },
  {
   "cell_type": "code",
   "execution_count": 8,
   "metadata": {},
   "outputs": [],
   "source": [
    "train_data = keras.preprocessing.sequence.pad_sequences(train_data,\n",
    "                                                        value=word_index[\"<PAD>\"],\n",
    "                                                        padding='post',\n",
    "                                                        maxlen=256)\n",
    "\n",
    "test_data = keras.preprocessing.sequence.pad_sequences(test_data,\n",
    "                                                       value=word_index[\"<PAD>\"],\n",
    "                                                       padding='post',\n",
    "                                                       maxlen=256)\n"
   ]
  },
  {
   "cell_type": "code",
   "execution_count": 9,
   "metadata": {
    "scrolled": true
   },
   "outputs": [
    {
     "data": {
      "text/plain": [
       "array([    1,  2508, 13940,     6,  1718,    23,     4, 17327,    18,\n",
       "           6,  6945,  1461,     5,   592,  7020,    41,  1099, 24737,\n",
       "         212,     7,  7131,    39,     4,  2139,   868,   324,    34,\n",
       "         592,  6960, 21521,    11,  1718,  1399,     5,  2566,    34,\n",
       "           6,  7349,   177,  7581, 13930,     9,   389,    17,     4,\n",
       "       11844,     2,   564, 40772,    13,   119,    14,    20,   151,\n",
       "         171,   409,   306,     8,  2508,   584,   166,    12,     6,\n",
       "        2286,    11,    61,   274,  2680,    61,   457,    22,     7,\n",
       "        7553,     0,     0,     0,     0,     0,     0,     0,     0,\n",
       "           0,     0,     0,     0,     0,     0,     0,     0,     0,\n",
       "           0,     0,     0,     0,     0,     0,     0,     0,     0,\n",
       "           0,     0,     0,     0,     0,     0,     0,     0,     0,\n",
       "           0,     0,     0,     0,     0,     0,     0,     0,     0,\n",
       "           0,     0,     0,     0,     0,     0,     0,     0,     0,\n",
       "           0,     0,     0,     0,     0,     0,     0,     0,     0,\n",
       "           0,     0,     0,     0,     0,     0,     0,     0,     0,\n",
       "           0,     0,     0,     0,     0,     0,     0,     0,     0,\n",
       "           0,     0,     0,     0,     0,     0,     0,     0,     0,\n",
       "           0,     0,     0,     0,     0,     0,     0,     0,     0,\n",
       "           0,     0,     0,     0,     0,     0,     0,     0,     0,\n",
       "           0,     0,     0,     0,     0,     0,     0,     0,     0,\n",
       "           0,     0,     0,     0,     0,     0,     0,     0,     0,\n",
       "           0,     0,     0,     0,     0,     0,     0,     0,     0,\n",
       "           0,     0,     0,     0,     0,     0,     0,     0,     0,\n",
       "           0,     0,     0,     0,     0,     0,     0,     0,     0,\n",
       "           0,     0,     0,     0,     0,     0,     0,     0,     0,\n",
       "           0,     0,     0,     0,     0,     0,     0,     0,     0,\n",
       "           0,     0,     0,     0,     0,     0,     0,     0,     0,\n",
       "           0,     0,     0,     0])"
      ]
     },
     "execution_count": 9,
     "metadata": {},
     "output_type": "execute_result"
    }
   ],
   "source": [
    "train_data[470]"
   ]
  },
  {
   "cell_type": "markdown",
   "metadata": {},
   "source": [
    "### show how the decoded data ( number => text ) looks like"
   ]
  },
  {
   "cell_type": "markdown",
   "metadata": {},
   "source": [
    "#### changed to 256 length data"
   ]
  },
  {
   "cell_type": "code",
   "execution_count": 10,
   "metadata": {},
   "outputs": [
    {
     "data": {
      "text/plain": [
       "(256, 256)"
      ]
     },
     "execution_count": 10,
     "metadata": {},
     "output_type": "execute_result"
    }
   ],
   "source": [
    "len(train_data[0]), len(train_data[1])\n"
   ]
  },
  {
   "cell_type": "code",
   "execution_count": 11,
   "metadata": {},
   "outputs": [
    {
     "data": {
      "text/plain": [
       "\"<START> kim novak's a witch on the prowl for a mortal lover and james stewart's her choice scintillating comedy of manners from the broadway stage shot by james wong howe in witch color and performed by a sterling cast ernie kovacs is wonderful as the perpetually <UNK> writer redlitch i love this movie though few others seem to kim alone makes it a winner in my book ha my 5 film of 1958 <PAD> <PAD> <PAD> <PAD> <PAD> <PAD> <PAD> <PAD> <PAD> <PAD> <PAD> <PAD> <PAD> <PAD> <PAD> <PAD> <PAD> <PAD> <PAD> <PAD> <PAD> <PAD> <PAD> <PAD> <PAD> <PAD> <PAD> <PAD> <PAD> <PAD> <PAD> <PAD> <PAD> <PAD> <PAD> <PAD> <PAD> <PAD> <PAD> <PAD> <PAD> <PAD> <PAD> <PAD> <PAD> <PAD> <PAD> <PAD> <PAD> <PAD> <PAD> <PAD> <PAD> <PAD> <PAD> <PAD> <PAD> <PAD> <PAD> <PAD> <PAD> <PAD> <PAD> <PAD> <PAD> <PAD> <PAD> <PAD> <PAD> <PAD> <PAD> <PAD> <PAD> <PAD> <PAD> <PAD> <PAD> <PAD> <PAD> <PAD> <PAD> <PAD> <PAD> <PAD> <PAD> <PAD> <PAD> <PAD> <PAD> <PAD> <PAD> <PAD> <PAD> <PAD> <PAD> <PAD> <PAD> <PAD> <PAD> <PAD> <PAD> <PAD> <PAD> <PAD> <PAD> <PAD> <PAD> <PAD> <PAD> <PAD> <PAD> <PAD> <PAD> <PAD> <PAD> <PAD> <PAD> <PAD> <PAD> <PAD> <PAD> <PAD> <PAD> <PAD> <PAD> <PAD> <PAD> <PAD> <PAD> <PAD> <PAD> <PAD> <PAD> <PAD> <PAD> <PAD> <PAD> <PAD> <PAD> <PAD> <PAD> <PAD> <PAD> <PAD> <PAD> <PAD> <PAD> <PAD> <PAD> <PAD> <PAD> <PAD> <PAD> <PAD> <PAD> <PAD> <PAD> <PAD> <PAD> <PAD> <PAD> <PAD> <PAD> <PAD> <PAD> <PAD> <PAD> <PAD> <PAD> <PAD> <PAD> <PAD> <PAD> <PAD> <PAD> <PAD> <PAD> <PAD> <PAD> <PAD> <PAD> <PAD> <PAD>\""
      ]
     },
     "execution_count": 11,
     "metadata": {},
     "output_type": "execute_result"
    }
   ],
   "source": [
    "decode_review(train_data[470])"
   ]
  },
  {
   "cell_type": "markdown",
   "metadata": {},
   "source": [
    "#### train the model to recognize \"positive\" or \"negative\" review using word-embedding"
   ]
  },
  {
   "cell_type": "code",
   "execution_count": 12,
   "metadata": {},
   "outputs": [
    {
     "name": "stderr",
     "output_type": "stream",
     "text": [
      "W0706 16:25:00.685201  3244 deprecation.py:323] From f:\\program files\\python36\\lib\\site-packages\\tensorflow\\python\\ops\\nn_impl.py:182: add_dispatch_support.<locals>.wrapper (from tensorflow.python.ops.array_ops) is deprecated and will be removed in a future version.\n",
      "Instructions for updating:\n",
      "Use tf.where in 2.0, which has the same broadcast rule as np.where\n"
     ]
    }
   ],
   "source": [
    "model.compile(optimizer='adam',\n",
    "              loss='binary_crossentropy',\n",
    "              metrics=['accuracy'])\n"
   ]
  },
  {
   "cell_type": "code",
   "execution_count": 13,
   "metadata": {},
   "outputs": [
    {
     "name": "stdout",
     "output_type": "stream",
     "text": [
      "train shape (15000, 256)\n"
     ]
    }
   ],
   "source": [
    "x_val = train_data[:10000]\n",
    "partial_x_train = train_data[10000:]\n",
    "\n",
    "y_val = train_labels[:10000]\n",
    "partial_y_train = train_labels[10000:]\n",
    "\n",
    "print('train shape', partial_x_train.shape)"
   ]
  },
  {
   "cell_type": "code",
   "execution_count": 14,
   "metadata": {},
   "outputs": [
    {
     "name": "stdout",
     "output_type": "stream",
     "text": [
      "Train on 15000 samples, validate on 10000 samples\n",
      "Epoch 1/10\n",
      "15000/15000 [==============================] - 2s 147us/sample - loss: 0.6803 - acc: 0.6966 - val_loss: 0.6546 - val_acc: 0.7740\n",
      "Epoch 2/10\n",
      "15000/15000 [==============================] - 1s 67us/sample - loss: 0.5860 - acc: 0.8119 - val_loss: 0.5203 - val_acc: 0.8252\n",
      "Epoch 3/10\n",
      "15000/15000 [==============================] - 1s 67us/sample - loss: 0.4284 - acc: 0.8623 - val_loss: 0.3970 - val_acc: 0.8544\n",
      "Epoch 4/10\n",
      "15000/15000 [==============================] - 1s 66us/sample - loss: 0.3141 - acc: 0.8984 - val_loss: 0.3338 - val_acc: 0.8740\n",
      "Epoch 5/10\n",
      "15000/15000 [==============================] - 1s 67us/sample - loss: 0.2458 - acc: 0.9189 - val_loss: 0.3023 - val_acc: 0.8808\n",
      "Epoch 6/10\n",
      "15000/15000 [==============================] - 1s 65us/sample - loss: 0.1993 - acc: 0.9353 - val_loss: 0.2843 - val_acc: 0.8872\n",
      "Epoch 7/10\n",
      "15000/15000 [==============================] - 1s 67us/sample - loss: 0.1646 - acc: 0.9475 - val_loss: 0.2780 - val_acc: 0.8879\n",
      "Epoch 8/10\n",
      "15000/15000 [==============================] - 1s 68us/sample - loss: 0.1367 - acc: 0.9595 - val_loss: 0.2720 - val_acc: 0.8918\n",
      "Epoch 9/10\n",
      "15000/15000 [==============================] - 1s 66us/sample - loss: 0.1140 - acc: 0.9687 - val_loss: 0.2746 - val_acc: 0.8906\n",
      "Epoch 10/10\n",
      "15000/15000 [==============================] - 1s 68us/sample - loss: 0.0961 - acc: 0.9753 - val_loss: 0.2749 - val_acc: 0.8915\n"
     ]
    }
   ],
   "source": [
    "history = model.fit(partial_x_train,\n",
    "                    partial_y_train,\n",
    "                    epochs=10,\n",
    "                    batch_size=128,\n",
    "                    validation_data=(x_val, y_val)\n",
    "                    )\n"
   ]
  },
  {
   "cell_type": "code",
   "execution_count": 15,
   "metadata": {},
   "outputs": [
    {
     "data": {
      "image/png": "[encoded data removed]",
      "text/plain": [
       "<Figure size 432x288 with 1 Axes>"
      ]
     },
     "metadata": {
      "needs_background": "light"
     },
     "output_type": "display_data"
    },
    {
     "data": {
      "image/png": "[encoded data removed]",
      "text/plain": [
       "<Figure size 432x288 with 1 Axes>"
      ]
     },
     "metadata": {
      "needs_background": "light"
     },
     "output_type": "display_data"
    }
   ],
   "source": [
    "%matplotlib inline\n",
    "from matplotlib import pyplot as plt\n",
    "# show procession of training...\n",
    "plt.plot(history.history['loss'])\n",
    "plt.plot(history.history['val_loss'])\n",
    "\n",
    "plt.title('model loss')\n",
    "plt.ylabel('loss')\n",
    "plt.xlabel('epoch')\n",
    "plt.legend(['train', 'test'], loc='upper right')\n",
    "plt.show()\n",
    "\n",
    "plt.plot(history.history['acc'])\n",
    "plt.plot(history.history['val_acc'])\n",
    "\n",
    "plt.title('model accuracy')\n",
    "plt.ylabel('accuracy')\n",
    "plt.xlabel('epoch')\n",
    "plt.legend(['train', 'test'], loc='upper left')\n",
    "plt.show()"
   ]
  },
  {
   "cell_type": "markdown",
   "metadata": {},
   "source": [
    "### let's see how the model predicts review (positive/negative) on the unseen data"
   ]
  },
  {
   "cell_type": "code",
   "execution_count": 16,
   "metadata": {},
   "outputs": [
    {
     "name": "stdout",
     "output_type": "stream",
     "text": [
      "25000/25000 [==============================] - 1s 52us/sample - loss: 0.2978 - acc: 0.8788\n",
      "[0.2977615620326996, 0.87876]\n"
     ]
    }
   ],
   "source": [
    "# evaluate againt test data\n",
    "results = model.evaluate(test_data, test_labels)\n",
    "\n",
    "print(results)\n",
    "\n"
   ]
  },
  {
   "cell_type": "markdown",
   "metadata": {},
   "source": [
    "### Let's visualize the prediction against the \"test data\""
   ]
  },
  {
   "cell_type": "code",
   "execution_count": 17,
   "metadata": {},
   "outputs": [],
   "source": [
    "# create two arrays with 0 and 1\n",
    "predictions = model.predict(test_data)\n",
    "positive=[]\n",
    "negative=[]\n",
    "good_matrix = np.zeros( (2,), dtype='int')\n",
    "good_lowest = 1.0\n",
    "bad_highest = 0.0\n",
    "good_index = 0\n",
    "bad_index = 0\n",
    "\n",
    "for i in range(test_labels.shape[0]):\n",
    "    \n",
    "    # get lowest \"good\" and highest \"bad\"\n",
    "    pv = predictions[i][0]\n",
    "    expected = test_labels[i]\n",
    "    \n",
    "    # append to pos/neg list\n",
    "    if expected == 1:\n",
    "        positive.append(pv)\n",
    "    else:\n",
    "        negative.append(pv)\n",
    "    \n",
    "    # guess cutoff is 0.5\n",
    "    guess = 1 if pv > 0.5 else 0\n",
    "    \n",
    "    # good count\n",
    "    if guess == expected:\n",
    "        good_matrix[expected] +=1\n",
    "    else:\n",
    "        #find the worst prediction\n",
    "        if expected == 1:\n",
    "            if good_lowest > pv:\n",
    "                good_lowest = pv\n",
    "                good_index = i\n",
    "        else:\n",
    "            if bad_highest < pv:\n",
    "                bad_highest = pv\n",
    "                bad_index = i\n"
   ]
  },
  {
   "cell_type": "markdown",
   "metadata": {},
   "source": [
    "### How did this simple model predict?\n",
    "See the histogram to see the distribution of its predictions against positive and negative reviews.\n",
    "\n",
    "The cutoff for positive is > 0.5\n",
    "\n",
    "The cutoff for negative is <= 0.5"
   ]
  },
  {
   "cell_type": "code",
   "execution_count": 18,
   "metadata": {},
   "outputs": [
    {
     "name": "stdout",
     "output_type": "stream",
     "text": [
      "Positive Reviews: 12500 guessed correctly: 10980 (87.84%) missed: 1520 (12.16%)\n",
      "Negative Reviews: 12500 guessed correctly: 10989 (87.912%) missed: 1511 (12.088%)\n",
      "\n",
      "positive median: 0.95507836\n"
     ]
    },
    {
     "data": {
      "image/png": "[encoded data removed]",
      "text/plain": [
       "<Figure size 432x288 with 1 Axes>"
      ]
     },
     "metadata": {
      "needs_background": "light"
     },
     "output_type": "display_data"
    },
    {
     "name": "stdout",
     "output_type": "stream",
     "text": [
      "negative median: 0.034539238\n"
     ]
    },
    {
     "data": {
      "image/png": "[encoded data removed]",
      "text/plain": [
       "<Figure size 432x288 with 1 Axes>"
      ]
     },
     "metadata": {
      "needs_background": "light"
     },
     "output_type": "display_data"
    }
   ],
   "source": [
    "print('Positive Reviews:', len(positive), \n",
    "      'guessed correctly:',good_matrix[1], '(' + str(good_matrix[1]*100.0/len(positive)) + '%)',\n",
    "      'missed:', len(positive) - good_matrix[1], '(' + str( (len(positive) - good_matrix[1])*100.0/len(positive)) + '%)')\n",
    "\n",
    "print('Negative Reviews:', len(negative), \n",
    "      'guessed correctly:',good_matrix[0], '(' + str(good_matrix[0]*100.0/len(negative)) + '%)',\n",
    "      'missed:', len(negative) - good_matrix[0], '(' + str( (len(negative) - good_matrix[0])*100.0/len(negative)) + '%)')\n",
    "\n",
    "print()\n",
    "\n",
    "print('positive median:', np.median(positive))\n",
    "binwidth=0.01\n",
    "plt.hist(positive, bins=np.arange(min(positive), max(positive) + binwidth, binwidth))\n",
    "plt.show()\n",
    "plt.close()\n",
    "\n",
    "print('negative median:', np.median(negative))\n",
    "binwidth=0.01\n",
    "plt.hist(negative, bins=np.arange(min(negative), max(negative) + binwidth, binwidth))\n",
    "plt.show()\n",
    "plt.close()"
   ]
  },
  {
   "cell_type": "markdown",
   "metadata": {},
   "source": [
    "#### good review guessed as negative\n",
    "Expected good review but guessed as negative"
   ]
  },
  {
   "cell_type": "code",
   "execution_count": 19,
   "metadata": {},
   "outputs": [
    {
     "name": "stdout",
     "output_type": "stream",
     "text": [
      "guessed weight: 0.0006637573 review label value: 1\n"
     ]
    },
    {
     "data": {
      "text/plain": [
       "\"br br pretty insulting overall it looked like a movie funded by the br br european parliament and it tried too hard basically it had all br br sorts of differences that it tried to tie together not a bad thing in br br itself but the result is at best awkward but in fact ridiculous too br br many clashes that wouldn't really happen then the end of the br br movie the last 10 minutes ruined all the rest why doesn't xavier br br talk to the <UNK> students he meets back in paris why does br br he just walk off why does he just run away from his job is that br br freedom and in the end is the new europe supposed to rest on br br a bunch of people who smoke up and shag all day is this what br br it's made up of br br besides the acting was pretty horrible i can't believe judith br br role and acting why was she made to look like br br emanuelle béart so much at first i thought xavier was ok but br br with retrospect i think he was pretty bad br br and that's all really too bad because technically opening credits br br scenes when he's asking what papers he needs it was really br br good except for sound editing around the british siblings and the br br soundtrack was great too so the form was good but the content br br pretty horrible\""
      ]
     },
     "execution_count": 19,
     "metadata": {},
     "output_type": "execute_result"
    }
   ],
   "source": [
    "print('guessed weight:', good_lowest, 'review label value:', test_labels[good_index])\n",
    "decode_review(test_data[good_index])"
   ]
  },
  {
   "cell_type": "markdown",
   "metadata": {},
   "source": [
    "#### bad review guessed as positive"
   ]
  },
  {
   "cell_type": "code",
   "execution_count": 20,
   "metadata": {},
   "outputs": [
    {
     "name": "stdout",
     "output_type": "stream",
     "text": [
      "guessed weight: 0.99936545 review label value: 0\n"
     ]
    },
    {
     "data": {
      "text/plain": [
       "\"into violent conclusions <UNK> is no different tough slim ball killer rourke stalks unhappily married witness lane think history of violence meets no country for old men it is not as intense bloody or gory as those two but it is almost as good if you like those two including david equally wonderful eastern promises you will like <UNK> also br br director john madden has not done a lot of movies his last few were enjoyable if not successful proof captain <UNK> and shakespeare in love br br diana lane hasn't had a powerful movie role since she and richard gere gave incredible performances in unfaithful lately she is charming and appealing in romantic stories such as nights in must love dogs and under the <UNK> sun here she is right on mark balancing her sexy appeal with reserved tension br br this is a small part for rosario dawson yet dawson does a good job with it you see a lot more of lane including an underwear scene to rival sigourney weaver in aliens and nicole kidman in eyes wide shut br br while you are in the crime drama section also pick up kiss kiss bang bang and gone baby gone and before the devil knows your dead the last has wonderful performances by phillip seymour hoffman ethan hawke marisa tomei and albert finney br br <UNK> flopped at the box office more is our luck it is certainly worth a 3 4 dollar rental if you like this genre 6 20 2009\""
      ]
     },
     "execution_count": 20,
     "metadata": {},
     "output_type": "execute_result"
    }
   ],
   "source": [
    "print('guessed weight:', bad_highest, 'review label value:', test_labels[bad_index])\n",
    "decode_review(test_data[bad_index])"
   ]
  },
  {
   "cell_type": "markdown",
   "metadata": {},
   "source": [
    "#### Let's check how this simple model actually  performs against my own review."
   ]
  },
  {
   "cell_type": "code",
   "execution_count": null,
   "metadata": {},
   "outputs": [],
   "source": [
    "from keras.preprocessing.text import text_to_word_sequence\n"
   ]
  },
  {
   "cell_type": "code",
   "execution_count": null,
   "metadata": {},
   "outputs": [],
   "source": [
    "# predict function\n",
    "def mypredict(text):\n",
    "    result = text_to_word_sequence(text)\n",
    "    print(result)\n",
    "    mydata = np.zeros(256,dtype='int')\n",
    "    mydata[0] = 1\n",
    "    index = 1\n",
    "    for w in result:\n",
    "        if w in word_index.keys():\n",
    "            iv = word_index[w]\n",
    "            if iv >= vocab_size:\n",
    "                iv = 2\n",
    "        else:\n",
    "            iv=2\n",
    "        mydata[index]=iv\n",
    "        index += 1\n",
    "\n",
    "    print(mydata)\n",
    "    #decode_review(mydata)\n",
    "    indata = np.reshape(mydata, (1,256))\n",
    "    #print(indata.shape)\n",
    "    #print(indata)\n",
    "    gr = model.predict(indata)\n",
    "    return gr[0][0]\n",
    "    "
   ]
  },
  {
   "cell_type": "code",
   "execution_count": null,
   "metadata": {},
   "outputs": [],
   "source": [
    "mypredict(\"<START> this film was the worst movie I ever saw. Anyone planning to go, please spend your money else where\")"
   ]
  },
  {
   "cell_type": "markdown",
   "metadata": {},
   "source": [
    "#### the output is  <= 0.5 so it correctly guessed that my review was a negative review"
   ]
  },
  {
   "cell_type": "code",
   "execution_count": null,
   "metadata": {},
   "outputs": [],
   "source": []
  }
 ],
 "metadata": {
  "kernelspec": {
   "display_name": "Python 3",
   "language": "python",
   "name": "python3"
  },
  "language_info": {
   "codemirror_mode": {
    "name": "ipython",
    "version": 3
   },
   "file_extension": ".py",
   "mimetype": "text/x-python",
   "name": "python",
   "nbconvert_exporter": "python",
   "pygments_lexer": "ipython3",
   "version": "3.6.8"
  }
 },
 "nbformat": 4,
 "nbformat_minor": 2
}
