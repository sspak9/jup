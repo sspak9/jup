{
 "cells": [
  {
   "cell_type": "markdown",
   "metadata": {},
   "source": [
    "### artificial neural network\n",
    "\n",
    "Read the theory at this good site: http://neuralnetworksanddeeplearning.com/index.html\n",
    "\n",
    "Do not get too hung up on the calculus math, but try to understand various vocabularies.\n",
    "\n",
    "Perceptrons, Weghts, Bias, Activation Function, Stochastic Gradient Decent,\n",
    "Input layer, Hidden Layer, Output Layer\n",
    "\n",
    "The following code will implement the multi layer perceptron to predict hand-written digits ( MNIST data )\n",
    "![ann.png](ann.png)\n",
    "\n",
    "The input layer is 28x28 pixels => 768\n",
    "\n",
    "The hidden layer has 256 nodes\n",
    "\n",
    "And the output layer has 10 nodes, where each node represents the probability associated with eadch digit"
   ]
  },
  {
   "cell_type": "code",
   "execution_count": 1,
   "metadata": {},
   "outputs": [
    {
     "name": "stdout",
     "output_type": "stream",
     "text": [
      "keras version: 2.2.4-tf\n",
      "keras backend: tensorflow\n"
     ]
    }
   ],
   "source": [
    "import numpy as np\n",
    "\n",
    "# import keras from tensorflow or just import keras\n",
    "from tensorflow import keras\n",
    "\n",
    "# show which backend I am using\n",
    "print('keras version:', keras.__version__)\n",
    "print('keras backend:', keras.backend.backend())"
   ]
  },
  {
   "cell_type": "code",
   "execution_count": 2,
   "metadata": {},
   "outputs": [],
   "source": [
    "#load data\n",
    "# either hand written digits or fashion mnist\n",
    "\n",
    "data = keras.datasets.mnist\n",
    "#data = keras.datasets.fashion_mnist"
   ]
  },
  {
   "cell_type": "code",
   "execution_count": 3,
   "metadata": {},
   "outputs": [],
   "source": [
    "# this command actually downloads the data once and caches it\n",
    "(x_train, y_train), (x_test, y_test) = data.load_data()"
   ]
  },
  {
   "cell_type": "code",
   "execution_count": 4,
   "metadata": {},
   "outputs": [
    {
     "name": "stdout",
     "output_type": "stream",
     "text": [
      "train shape: (60000, 28, 28)\n",
      "train y: (60000,)\n",
      "test_shape: (10000, 28, 28)\n",
      "test y: (10000,)\n",
      "num of labels: 10\n",
      "image size: 28\n",
      "input shape: 784\n"
     ]
    }
   ],
   "source": [
    "# show the shape of the data\n",
    "\n",
    "print('train shape:', x_train.shape)\n",
    "print('train y:', y_train.shape)\n",
    "print('test_shape:', x_test.shape)\n",
    "print('test y:', y_test.shape)\n",
    "\n",
    "num_labels = len(np.unique(y_train))\n",
    "image_size = x_train.shape[1]\n",
    "input_shape = image_size * image_size\n",
    "\n",
    "print('num of labels:', num_labels)\n",
    "print('image size:', image_size)\n",
    "print('input shape:', input_shape)\n"
   ]
  },
  {
   "cell_type": "code",
   "execution_count": 5,
   "metadata": {},
   "outputs": [],
   "source": [
    "#reshape to flat 784 and normalize to 0.0 to 1.0\n",
    "\n",
    "x_train2 = x_train.reshape( x_train.shape[0] , input_shape)\n",
    "x_train2 = x_train2.astype('float32') / 255\n",
    "\n",
    "x_test2 = x_test.reshape(x_test.shape[0],input_shape)\n",
    "x_test2 = x_test2.astype('float32') / 255\n",
    "\n",
    "#hot encode\n",
    "y_train2 = keras.utils.to_categorical(y_train)\n",
    "y_test2 = keras.utils.to_categorical(y_test)"
   ]
  },
  {
   "cell_type": "code",
   "execution_count": 6,
   "metadata": {},
   "outputs": [
    {
     "name": "stdout",
     "output_type": "stream",
     "text": [
      "revised x_train shape: (60000, 784)\n",
      "revised y_train shape: (60000, 10)\n",
      "revised x_test shape: (10000, 784)\n",
      "revised y_test shape: (10000, 10)\n"
     ]
    }
   ],
   "source": [
    "print(\"revised x_train shape:\", x_train2.shape)\n",
    "print('revised y_train shape:', y_train2.shape)\n",
    "print('revised x_test shape:', x_test2.shape)\n",
    "print('revised y_test shape:', y_test2.shape)"
   ]
  },
  {
   "cell_type": "code",
   "execution_count": 7,
   "metadata": {},
   "outputs": [],
   "source": [
    "# so called hyper parameters\n",
    "\n",
    "num_hidden_layers = 512\n",
    "epochs=10\n",
    "batch_size=256"
   ]
  },
  {
   "cell_type": "code",
   "execution_count": 8,
   "metadata": {},
   "outputs": [
    {
     "name": "stdout",
     "output_type": "stream",
     "text": [
      "WARNING:tensorflow:From /Library/Frameworks/Python.framework/Versions/3.6/lib/python3.6/site-packages/tensorflow/python/ops/resource_variable_ops.py:435: colocate_with (from tensorflow.python.framework.ops) is deprecated and will be removed in a future version.\n",
      "Instructions for updating:\n",
      "Colocations handled automatically by placer.\n",
      "_________________________________________________________________\n",
      "Layer (type)                 Output Shape              Param #   \n",
      "=================================================================\n",
      "dense (Dense)                (None, 512)               401920    \n",
      "_________________________________________________________________\n",
      "dense_1 (Dense)              (None, 10)                5130      \n",
      "=================================================================\n",
      "Total params: 407,050\n",
      "Trainable params: 407,050\n",
      "Non-trainable params: 0\n",
      "_________________________________________________________________\n",
      "10000/10000 [==============================] - 0s 31us/sample - loss: 2.3901 - acc: 0.1132\n",
      "[2.3901067783355714, 0.1132]\n"
     ]
    }
   ],
   "source": [
    "#model\n",
    "model = keras.models.Sequential()\n",
    "# input layer is just 784 inputs coming in as defined in the hidden layer below\n",
    "\n",
    "# hidden layer\n",
    "model.add( keras.layers.Dense(num_hidden_layers, input_shape=(input_shape,), activation='relu'))\n",
    "\n",
    "#output layer\n",
    "model.add( keras.layers.Dense(10, activation='softmax'))\n",
    "\n",
    "# compile to model\n",
    "model.compile(optimizer='adam',\n",
    "              loss='categorical_crossentropy',\n",
    "              metrics=['accuracy'])\n",
    "\n",
    "model.summary()\n",
    "\n",
    "# evaluate how the model does against the test data\n",
    "print(model.evaluate(x_test2 , y_test2))"
   ]
  },
  {
   "cell_type": "code",
   "execution_count": 9,
   "metadata": {},
   "outputs": [
    {
     "name": "stdout",
     "output_type": "stream",
     "text": [
      "Train on 60000 samples, validate on 10000 samples\n",
      "WARNING:tensorflow:From /Library/Frameworks/Python.framework/Versions/3.6/lib/python3.6/site-packages/tensorflow/python/ops/math_ops.py:3066: to_int32 (from tensorflow.python.ops.math_ops) is deprecated and will be removed in a future version.\n",
      "Instructions for updating:\n",
      "Use tf.cast instead.\n",
      "Epoch 1/10\n",
      "60000/60000 [==============================] - 2s 29us/sample - loss: 0.3227 - acc: 0.9107 - val_loss: 0.1655 - val_acc: 0.9514\n",
      "Epoch 2/10\n",
      "60000/60000 [==============================] - 2s 27us/sample - loss: 0.1331 - acc: 0.9618 - val_loss: 0.1133 - val_acc: 0.9662\n",
      "Epoch 3/10\n",
      "60000/60000 [==============================] - 2s 27us/sample - loss: 0.0906 - acc: 0.9740 - val_loss: 0.0943 - val_acc: 0.9723\n",
      "Epoch 4/10\n",
      "60000/60000 [==============================] - 2s 28us/sample - loss: 0.0660 - acc: 0.9813 - val_loss: 0.0815 - val_acc: 0.9753\n",
      "Epoch 5/10\n",
      "60000/60000 [==============================] - 2s 27us/sample - loss: 0.0513 - acc: 0.9855 - val_loss: 0.0713 - val_acc: 0.9775\n",
      "Epoch 6/10\n",
      "60000/60000 [==============================] - 3s 44us/sample - loss: 0.0388 - acc: 0.9892 - val_loss: 0.0666 - val_acc: 0.9786\n",
      "Epoch 7/10\n",
      "60000/60000 [==============================] - 3s 49us/sample - loss: 0.0313 - acc: 0.9914 - val_loss: 0.0746 - val_acc: 0.9770\n",
      "Epoch 8/10\n",
      "60000/60000 [==============================] - 3s 55us/sample - loss: 0.0245 - acc: 0.9938 - val_loss: 0.0662 - val_acc: 0.9800\n",
      "Epoch 9/10\n",
      "60000/60000 [==============================] - 2s 32us/sample - loss: 0.0198 - acc: 0.9953 - val_loss: 0.0705 - val_acc: 0.9783\n",
      "Epoch 10/10\n",
      "60000/60000 [==============================] - 2s 28us/sample - loss: 0.0155 - acc: 0.9965 - val_loss: 0.0650 - val_acc: 0.9802\n"
     ]
    }
   ],
   "source": [
    "#train the model with train data\n",
    "fit_history = model.fit(x_train2, y_train2,\n",
    "  epochs=epochs ,\n",
    "  batch_size=batch_size,\n",
    "  validation_data=(x_test2,y_test2)\n",
    ")"
   ]
  },
  {
   "cell_type": "code",
   "execution_count": 10,
   "metadata": {},
   "outputs": [
    {
     "data": {
      "image/png": "[encoded data removed]",
      "text/plain": [
       "<Figure size 432x288 with 1 Axes>"
      ]
     },
     "metadata": {
      "needs_background": "light"
     },
     "output_type": "display_data"
    },
    {
     "data": {
      "image/png": "[encoded data removed]",
      "text/plain": [
       "<Figure size 432x288 with 1 Axes>"
      ]
     },
     "metadata": {
      "needs_background": "light"
     },
     "output_type": "display_data"
    }
   ],
   "source": [
    "# display the data\n",
    "%matplotlib inline\n",
    "from matplotlib import pyplot as plt\n",
    "\n",
    "# show procession of training...\n",
    "plt.plot(fit_history.history['loss'])\n",
    "plt.plot(fit_history.history['val_loss'])\n",
    "\n",
    "plt.title('model loss')\n",
    "plt.ylabel('loss')\n",
    "plt.xlabel('epoch')\n",
    "plt.legend(['train', 'test'], loc='upper right')\n",
    "plt.show()\n",
    "\n",
    "plt.plot(fit_history.history['acc'])\n",
    "plt.plot(fit_history.history['val_acc'])\n",
    "\n",
    "plt.title('model accuracy')\n",
    "plt.ylabel('accuracy')\n",
    "plt.xlabel('epoch')\n",
    "plt.legend(['train', 'test'], loc='upper left')\n",
    "plt.show()\n",
    "plt.close()"
   ]
  },
  {
   "cell_type": "code",
   "execution_count": null,
   "metadata": {},
   "outputs": [],
   "source": []
  }
 ],
 "metadata": {
  "kernelspec": {
   "display_name": "Python 3",
   "language": "python",
   "name": "python3"
  },
  "language_info": {
   "codemirror_mode": {
    "name": "ipython",
    "version": 3
   },
   "file_extension": ".py",
   "mimetype": "text/x-python",
   "name": "python",
   "nbconvert_exporter": "python",
   "pygments_lexer": "ipython3",
   "version": "3.6.8"
  }
 },
 "nbformat": 4,
 "nbformat_minor": 2
}
