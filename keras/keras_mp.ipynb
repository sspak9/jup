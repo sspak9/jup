{
 "cells": [
  {
   "cell_type": "markdown",
   "metadata": {},
   "source": [
    "### artificial neural network\n",
    "\n",
    "Read the theory at this good site: http://neuralnetworksanddeeplearning.com/index.html\n",
    "\n",
    "Do not get too hung up on the calculus math, but try to understand various vocabularies.\n",
    "\n",
    "Perceptrons, Weghts, Bias, Activation Function, Stochastic Gradient Decent,\n",
    "Input layer, Hidden Layer, Output Layer\n",
    "\n",
    "The following code will implement the multi layer perceptron to predict hand-written digits ( MNIST data )\n",
    "![ann.png](ann.png)\n",
    "\n",
    "The input layer is 28x28 pixels => 768\n",
    "\n",
    "The hidden layer has 256 nodes\n",
    "\n",
    "And the output layer has 10 nodes, where each node represents the probability associated with eadch digit"
   ]
  },
  {
   "cell_type": "code",
   "execution_count": 31,
   "metadata": {},
   "outputs": [
    {
     "name": "stdout",
     "output_type": "stream",
     "text": [
      "keras version: 2.2.4-tf\n",
      "keras backend: tensorflow\n"
     ]
    }
   ],
   "source": [
    "import numpy as np\n",
    "\n",
    "# import keras from tensorflow or just import keras\n",
    "from tensorflow import keras\n",
    "\n",
    "# show which backend I am using\n",
    "print('keras version:', keras.__version__)\n",
    "print('keras backend:', keras.backend.backend())"
   ]
  },
  {
   "cell_type": "code",
   "execution_count": 32,
   "metadata": {},
   "outputs": [],
   "source": [
    "#load data\n",
    "# either hand written digits or fashion mnist\n",
    "\n",
    "data = keras.datasets.mnist\n",
    "#data = keras.datasets.fashion_mnist"
   ]
  },
  {
   "cell_type": "code",
   "execution_count": 33,
   "metadata": {},
   "outputs": [],
   "source": [
    "# this command actually downloads the data once and caches it\n",
    "(x_train, y_train), (x_test, y_test) = data.load_data()"
   ]
  },
  {
   "cell_type": "code",
   "execution_count": 34,
   "metadata": {},
   "outputs": [
    {
     "name": "stdout",
     "output_type": "stream",
     "text": [
      "train shape: (60000, 28, 28)\n",
      "train y: (60000,)\n",
      "test_shape: (10000, 28, 28)\n",
      "test y: (10000,)\n",
      "num of labels: 10\n",
      "image size: 28\n",
      "input shape: 784\n"
     ]
    }
   ],
   "source": [
    "# show the shape of the data\n",
    "\n",
    "print('train shape:', x_train.shape)\n",
    "print('train y:', y_train.shape)\n",
    "print('test_shape:', x_test.shape)\n",
    "print('test y:', y_test.shape)\n",
    "\n",
    "num_labels = len(np.unique(y_train))\n",
    "image_size = x_train.shape[1]\n",
    "input_shape = image_size * image_size\n",
    "\n",
    "print('num of labels:', num_labels)\n",
    "print('image size:', image_size)\n",
    "print('input shape:', input_shape)\n"
   ]
  },
  {
   "cell_type": "code",
   "execution_count": 35,
   "metadata": {},
   "outputs": [],
   "source": [
    "#reshape to flat 784 and normalize to 0.0 to 1.0\n",
    "\n",
    "x_train2 = x_train.reshape( x_train.shape[0] , input_shape)\n",
    "x_train2 = x_train2.astype('float32') / 255\n",
    "\n",
    "x_test2 = x_test.reshape(x_test.shape[0],input_shape)\n",
    "x_test2 = x_test2.astype('float32') / 255\n",
    "\n",
    "#hot encode\n",
    "y_train2 = keras.utils.to_categorical(y_train)\n",
    "y_test2 = keras.utils.to_categorical(y_test)"
   ]
  },
  {
   "cell_type": "code",
   "execution_count": 36,
   "metadata": {},
   "outputs": [
    {
     "name": "stdout",
     "output_type": "stream",
     "text": [
      "revised x_train shape: (60000, 784)\n",
      "revised y_train shape: (60000, 10)\n",
      "revised x_test shape: (10000, 784)\n",
      "revised y_test shape: (10000, 10)\n"
     ]
    }
   ],
   "source": [
    "print(\"revised x_train shape:\", x_train2.shape)\n",
    "print('revised y_train shape:', y_train2.shape)\n",
    "print('revised x_test shape:', x_test2.shape)\n",
    "print('revised y_test shape:', y_test2.shape)"
   ]
  },
  {
   "cell_type": "code",
   "execution_count": 37,
   "metadata": {},
   "outputs": [],
   "source": [
    "# so called hyper parameters\n",
    "\n",
    "num_hidden_layers = 512\n",
    "epochs=30\n",
    "batch_size=256"
   ]
  },
  {
   "cell_type": "code",
   "execution_count": 38,
   "metadata": {},
   "outputs": [
    {
     "name": "stdout",
     "output_type": "stream",
     "text": [
      "_________________________________________________________________\n",
      "Layer (type)                 Output Shape              Param #   \n",
      "=================================================================\n",
      "dense_6 (Dense)              (None, 512)               401920    \n",
      "_________________________________________________________________\n",
      "dense_7 (Dense)              (None, 10)                5130      \n",
      "=================================================================\n",
      "Total params: 407,050\n",
      "Trainable params: 407,050\n",
      "Non-trainable params: 0\n",
      "_________________________________________________________________\n"
     ]
    }
   ],
   "source": [
    "#model\n",
    "model = keras.models.Sequential()\n",
    "# input layer is just 784 inputs coming in as defined in the hidden layer below\n",
    "\n",
    "# hidden layer\n",
    "model.add( keras.layers.Dense(num_hidden_layers, input_shape=(input_shape,), activation='relu'))\n",
    "\n",
    "#output layer\n",
    "model.add( keras.layers.Dense(10, activation='softmax'))\n",
    "\n",
    "# compile to model\n",
    "# using SGD optimizer with the defaults:\n",
    "# keras.optimizers.SGD(lr=0.01, momentum=0.0, decay=0.0, nesterov=False)\n",
    "\n",
    "optimizer = keras.optimizers.SGD()\n",
    "\n",
    "model.compile(optimizer=optimizer,\n",
    "              loss='categorical_crossentropy',\n",
    "              metrics=['accuracy'])\n",
    "\n",
    "model.summary()\n",
    "\n"
   ]
  },
  {
   "cell_type": "code",
   "execution_count": 39,
   "metadata": {},
   "outputs": [
    {
     "name": "stdout",
     "output_type": "stream",
     "text": [
      "Train on 60000 samples, validate on 10000 samples\n",
      "Epoch 1/30\n",
      "60000/60000 [==============================] - 1s 24us/sample - loss: 1.4531 - acc: 0.6851 - val_loss: 0.8914 - val_acc: 0.8432\n",
      "Epoch 2/30\n",
      "60000/60000 [==============================] - 1s 23us/sample - loss: 0.7379 - acc: 0.8500 - val_loss: 0.5912 - val_acc: 0.8747\n",
      "Epoch 3/30\n",
      "60000/60000 [==============================] - 1s 23us/sample - loss: 0.5565 - acc: 0.8698 - val_loss: 0.4846 - val_acc: 0.8866\n",
      "Epoch 4/30\n",
      "60000/60000 [==============================] - 1s 22us/sample - loss: 0.4780 - acc: 0.8805 - val_loss: 0.4295 - val_acc: 0.8933\n",
      "Epoch 5/30\n",
      "60000/60000 [==============================] - 1s 22us/sample - loss: 0.4331 - acc: 0.8877 - val_loss: 0.3959 - val_acc: 0.8989\n",
      "Epoch 6/30\n",
      "60000/60000 [==============================] - 1s 22us/sample - loss: 0.4033 - acc: 0.8929 - val_loss: 0.3716 - val_acc: 0.9030\n",
      "Epoch 7/30\n",
      "60000/60000 [==============================] - 1s 22us/sample - loss: 0.3817 - acc: 0.8974 - val_loss: 0.3540 - val_acc: 0.9057\n",
      "Epoch 8/30\n",
      "60000/60000 [==============================] - 1s 23us/sample - loss: 0.3649 - acc: 0.9008 - val_loss: 0.3400 - val_acc: 0.9086\n",
      "Epoch 9/30\n",
      "60000/60000 [==============================] - 1s 22us/sample - loss: 0.3513 - acc: 0.9035 - val_loss: 0.3288 - val_acc: 0.9101\n",
      "Epoch 10/30\n",
      "60000/60000 [==============================] - 1s 25us/sample - loss: 0.3399 - acc: 0.9063 - val_loss: 0.3194 - val_acc: 0.9136\n",
      "Epoch 11/30\n",
      "60000/60000 [==============================] - 1s 24us/sample - loss: 0.3301 - acc: 0.9083 - val_loss: 0.3109 - val_acc: 0.9150\n",
      "Epoch 12/30\n",
      "60000/60000 [==============================] - 1s 22us/sample - loss: 0.3214 - acc: 0.9101 - val_loss: 0.3039 - val_acc: 0.9163\n",
      "Epoch 13/30\n",
      "60000/60000 [==============================] - 1s 22us/sample - loss: 0.3137 - acc: 0.9124 - val_loss: 0.2971 - val_acc: 0.9195\n",
      "Epoch 14/30\n",
      "60000/60000 [==============================] - 1s 23us/sample - loss: 0.3067 - acc: 0.9141 - val_loss: 0.2911 - val_acc: 0.9207\n",
      "Epoch 15/30\n",
      "60000/60000 [==============================] - 1s 23us/sample - loss: 0.3002 - acc: 0.9159 - val_loss: 0.2856 - val_acc: 0.9207\n",
      "Epoch 16/30\n",
      "60000/60000 [==============================] - 1s 23us/sample - loss: 0.2942 - acc: 0.9174 - val_loss: 0.2808 - val_acc: 0.9218\n",
      "Epoch 17/30\n",
      "60000/60000 [==============================] - 1s 23us/sample - loss: 0.2887 - acc: 0.9194 - val_loss: 0.2760 - val_acc: 0.9238\n",
      "Epoch 18/30\n",
      "60000/60000 [==============================] - 1s 24us/sample - loss: 0.2834 - acc: 0.9205 - val_loss: 0.2710 - val_acc: 0.9247\n",
      "Epoch 19/30\n",
      "60000/60000 [==============================] - 1s 24us/sample - loss: 0.2785 - acc: 0.9221 - val_loss: 0.2670 - val_acc: 0.9261\n",
      "Epoch 20/30\n",
      "60000/60000 [==============================] - 1s 24us/sample - loss: 0.2737 - acc: 0.9237 - val_loss: 0.2631 - val_acc: 0.9268\n",
      "Epoch 21/30\n",
      "60000/60000 [==============================] - 1s 23us/sample - loss: 0.2693 - acc: 0.9250 - val_loss: 0.2590 - val_acc: 0.9279\n",
      "Epoch 22/30\n",
      "60000/60000 [==============================] - 1s 23us/sample - loss: 0.2650 - acc: 0.9263 - val_loss: 0.2552 - val_acc: 0.9287\n",
      "Epoch 23/30\n",
      "60000/60000 [==============================] - 1s 24us/sample - loss: 0.2610 - acc: 0.9276 - val_loss: 0.2517 - val_acc: 0.9300\n",
      "Epoch 24/30\n",
      "60000/60000 [==============================] - 1s 24us/sample - loss: 0.2570 - acc: 0.9283 - val_loss: 0.2488 - val_acc: 0.9314\n",
      "Epoch 25/30\n",
      "60000/60000 [==============================] - 1s 24us/sample - loss: 0.2532 - acc: 0.9296 - val_loss: 0.2448 - val_acc: 0.9318\n",
      "Epoch 26/30\n",
      "60000/60000 [==============================] - 1s 24us/sample - loss: 0.2496 - acc: 0.9306 - val_loss: 0.2418 - val_acc: 0.9324\n",
      "Epoch 27/30\n",
      "60000/60000 [==============================] - 1s 24us/sample - loss: 0.2461 - acc: 0.9314 - val_loss: 0.2385 - val_acc: 0.9333\n",
      "Epoch 28/30\n",
      "60000/60000 [==============================] - 1s 24us/sample - loss: 0.2427 - acc: 0.9330 - val_loss: 0.2355 - val_acc: 0.9334\n",
      "Epoch 29/30\n",
      "60000/60000 [==============================] - 1s 24us/sample - loss: 0.2394 - acc: 0.9335 - val_loss: 0.2328 - val_acc: 0.9337\n",
      "Epoch 30/30\n",
      "60000/60000 [==============================] - 1s 24us/sample - loss: 0.2362 - acc: 0.9343 - val_loss: 0.2301 - val_acc: 0.9364\n",
      "10000/10000 [==============================] - 0s 30us/sample - loss: 0.2301 - acc: 0.9364\n",
      "[0.2300974529772997, 0.9364]\n"
     ]
    }
   ],
   "source": [
    "#train the model with train data\n",
    "fit_history = model.fit(x_train2, y_train2,\n",
    "  epochs=epochs ,\n",
    "  batch_size=batch_size,\n",
    "  validation_data=(x_test2,y_test2)\n",
    ")\n",
    "\n",
    "# evaluate how the model does against the test data\n",
    "print(model.evaluate(x_test2 , y_test2))"
   ]
  },
  {
   "cell_type": "code",
   "execution_count": 40,
   "metadata": {},
   "outputs": [
    {
     "data": {
      "image/png": "[encoded data removed]",
      "text/plain": [
       "<Figure size 432x288 with 1 Axes>"
      ]
     },
     "metadata": {
      "needs_background": "light"
     },
     "output_type": "display_data"
    },
    {
     "data": {
      "image/png": "[encoded data removed]",
      "text/plain": [
       "<Figure size 432x288 with 1 Axes>"
      ]
     },
     "metadata": {
      "needs_background": "light"
     },
     "output_type": "display_data"
    }
   ],
   "source": [
    "# display the data\n",
    "%matplotlib inline\n",
    "from matplotlib import pyplot as plt\n",
    "\n",
    "# show procession of training...\n",
    "plt.plot(fit_history.history['loss'])\n",
    "plt.plot(fit_history.history['val_loss'])\n",
    "\n",
    "plt.title('model loss')\n",
    "plt.ylabel('loss')\n",
    "plt.xlabel('epoch')\n",
    "plt.legend(['train', 'test'], loc='upper right')\n",
    "plt.show()\n",
    "\n",
    "plt.plot(fit_history.history['acc'])\n",
    "plt.plot(fit_history.history['val_acc'])\n",
    "\n",
    "plt.title('model accuracy')\n",
    "plt.ylabel('accuracy')\n",
    "plt.xlabel('epoch')\n",
    "plt.legend(['train', 'test'], loc='upper left')\n",
    "plt.show()\n",
    "plt.close()"
   ]
  },
  {
   "cell_type": "code",
   "execution_count": null,
   "metadata": {},
   "outputs": [],
   "source": []
  }
 ],
 "metadata": {
  "kernelspec": {
   "display_name": "Python 3",
   "language": "python",
   "name": "python3"
  },
  "language_info": {
   "codemirror_mode": {
    "name": "ipython",
    "version": 3
   },
   "file_extension": ".py",
   "mimetype": "text/x-python",
   "name": "python",
   "nbconvert_exporter": "python",
   "pygments_lexer": "ipython3",
   "version": "3.6.8"
  }
 },
 "nbformat": 4,
 "nbformat_minor": 2
}
