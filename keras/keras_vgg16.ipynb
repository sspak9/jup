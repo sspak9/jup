{
 "cells": [
  {
   "cell_type": "code",
   "execution_count": 12,
   "metadata": {},
   "outputs": [
    {
     "name": "stdout",
     "output_type": "stream",
     "text": [
      "keras version: 2.2.4.1\n",
      "keras backend: plaidml.keras.backend\n"
     ]
    }
   ],
   "source": [
    "import numpy as np\n",
    "#from tensorflow import keras\n",
    "import keras\n",
    "\n",
    "print('keras version:', keras.__version__)\n",
    "print('keras backend:', keras.backend.backend())"
   ]
  },
  {
   "cell_type": "code",
   "execution_count": 13,
   "metadata": {},
   "outputs": [],
   "source": [
    "#load data\n",
    "data = keras.datasets.mnist\n",
    "#data = keras.datasets.fashion_mnist\n",
    "#data = keras.datasets.cifar10\n",
    "num_channels = 1\n"
   ]
  },
  {
   "cell_type": "code",
   "execution_count": 14,
   "metadata": {},
   "outputs": [],
   "source": [
    "(x_train, y_train), (x_test, y_test) = data.load_data()"
   ]
  },
  {
   "cell_type": "code",
   "execution_count": 15,
   "metadata": {},
   "outputs": [
    {
     "name": "stdout",
     "output_type": "stream",
     "text": [
      "train shape: (60000, 28, 28)\n",
      "train y: (60000,)\n",
      "test_shape: (10000, 28, 28)\n",
      "test y: (10000,)\n",
      "num of labels: 10\n",
      "image size: 28\n"
     ]
    }
   ],
   "source": [
    "print('train shape:', x_train.shape)\n",
    "print('train y:', y_train.shape)\n",
    "print('test_shape:', x_test.shape)\n",
    "print('test y:', y_test.shape)\n",
    "\n",
    "num_labels = len(np.unique(y_train))\n",
    "image_size = x_train.shape[2]\n",
    "\n",
    "print('num of labels:', num_labels)\n",
    "print('image size:', image_size)\n"
   ]
  },
  {
   "cell_type": "code",
   "execution_count": 16,
   "metadata": {},
   "outputs": [],
   "source": [
    "# convert the shape of data depending on the image data format\n",
    "is_channels_first = (keras.backend.image_data_format() == 'channels_first')\n",
    "\n",
    "if is_channels_first :\n",
    "    x_train2 = x_train.reshape(x_train.shape[0], num_channels, image_size, image_size)\n",
    "    x_test2 = x_test.reshape(x_test.shape[0], num_channels, image_size, image_size)\n",
    "    input_shape = (num_channels, image_size, image_size)\n",
    "else:\n",
    "    x_train2 = x_train.reshape(x_train.shape[0], image_size, image_size, num_channels)\n",
    "    x_test2 = x_test.reshape(x_test.shape[0], image_size, image_size, num_channels)\n",
    "    input_shape = (image_size, image_size, num_channels)"
   ]
  },
  {
   "cell_type": "code",
   "execution_count": 17,
   "metadata": {},
   "outputs": [],
   "source": [
    "x_train2 = x_train2.astype('float32') / 255\n",
    "x_test2 = x_test2.astype('float32') / 255\n",
    "\n",
    "#hot encode\n",
    "y_train2 = keras.utils.to_categorical(y_train)\n",
    "y_test2 = keras.utils.to_categorical(y_test)"
   ]
  },
  {
   "cell_type": "code",
   "execution_count": 18,
   "metadata": {},
   "outputs": [
    {
     "name": "stdout",
     "output_type": "stream",
     "text": [
      "revised x_train shape: (60000, 28, 28, 1)\n",
      "revised y_train shape: (60000, 10)\n",
      "revised x_test shape: (10000, 28, 28, 1)\n",
      "revised y_test shape: (10000, 10)\n",
      "input shape: (28, 28, 1)\n"
     ]
    }
   ],
   "source": [
    "print(\"revised x_train shape:\", x_train2.shape)\n",
    "print('revised y_train shape:', y_train2.shape)\n",
    "print('revised x_test shape:', x_test2.shape)\n",
    "print('revised y_test shape:', y_test2.shape)\n",
    "print('input shape:',input_shape)"
   ]
  },
  {
   "cell_type": "code",
   "execution_count": 19,
   "metadata": {},
   "outputs": [],
   "source": [
    "num_hidden_layers = 512\n",
    "epochs=20\n",
    "batch_size=400"
   ]
  },
  {
   "cell_type": "code",
   "execution_count": 20,
   "metadata": {},
   "outputs": [
    {
     "name": "stdout",
     "output_type": "stream",
     "text": [
      "_________________________________________________________________\n",
      "Layer (type)                 Output Shape              Param #   \n",
      "=================================================================\n",
      "conv2d_9 (Conv2D)            (None, 28, 28, 64)        640       \n",
      "_________________________________________________________________\n",
      "conv2d_10 (Conv2D)           (None, 28, 28, 64)        36928     \n",
      "_________________________________________________________________\n",
      "max_pooling2d_5 (MaxPooling2 (None, 14, 14, 64)        0         \n",
      "_________________________________________________________________\n",
      "dropout_6 (Dropout)          (None, 14, 14, 64)        0         \n",
      "_________________________________________________________________\n",
      "conv2d_11 (Conv2D)           (None, 14, 14, 128)       73856     \n",
      "_________________________________________________________________\n",
      "conv2d_12 (Conv2D)           (None, 14, 14, 128)       147584    \n",
      "_________________________________________________________________\n",
      "max_pooling2d_6 (MaxPooling2 (None, 7, 7, 128)         0         \n",
      "_________________________________________________________________\n",
      "dropout_7 (Dropout)          (None, 7, 7, 128)         0         \n",
      "_________________________________________________________________\n",
      "conv2d_13 (Conv2D)           (None, 7, 7, 256)         295168    \n",
      "_________________________________________________________________\n",
      "conv2d_14 (Conv2D)           (None, 7, 7, 256)         590080    \n",
      "_________________________________________________________________\n",
      "max_pooling2d_7 (MaxPooling2 (None, 3, 3, 256)         0         \n",
      "_________________________________________________________________\n",
      "dropout_8 (Dropout)          (None, 3, 3, 256)         0         \n",
      "_________________________________________________________________\n",
      "conv2d_15 (Conv2D)           (None, 3, 3, 512)         1180160   \n",
      "_________________________________________________________________\n",
      "conv2d_16 (Conv2D)           (None, 3, 3, 512)         2359808   \n",
      "_________________________________________________________________\n",
      "max_pooling2d_8 (MaxPooling2 (None, 1, 1, 512)         0         \n",
      "_________________________________________________________________\n",
      "dropout_9 (Dropout)          (None, 1, 1, 512)         0         \n",
      "_________________________________________________________________\n",
      "flatten_2 (Flatten)          (None, 512)               0         \n",
      "_________________________________________________________________\n",
      "dense_3 (Dense)              (None, 512)               262656    \n",
      "_________________________________________________________________\n",
      "dropout_10 (Dropout)         (None, 512)               0         \n",
      "_________________________________________________________________\n",
      "dense_4 (Dense)              (None, 10)                5130      \n",
      "=================================================================\n",
      "Total params: 4,952,010\n",
      "Trainable params: 4,952,010\n",
      "Non-trainable params: 0\n",
      "_________________________________________________________________\n"
     ]
    }
   ],
   "source": [
    "#model\n",
    "model = keras.models.Sequential()\n",
    "model.add( keras.layers.Conv2D(64, kernel_size=(3,3), input_shape=input_shape , activation='relu' , padding='same'))\n",
    "model.add( keras.layers.Conv2D(64, kernel_size=(3,3), activation='relu' , padding='same'))\n",
    "model.add( keras.layers.MaxPooling2D(pool_size=(2,2)))\n",
    "model.add( keras.layers.Dropout(0.2))\n",
    "\n",
    "model.add( keras.layers.Conv2D(128, kernel_size=(3,3), activation='relu' , padding='same'))\n",
    "model.add( keras.layers.Conv2D(128, kernel_size=(3,3), activation='relu' , padding='same'))\n",
    "model.add( keras.layers.MaxPooling2D(pool_size=(2,2)))\n",
    "model.add( keras.layers.Dropout(0.3))\n",
    "\n",
    "model.add( keras.layers.Conv2D(256, kernel_size=(3,3), activation='relu' , padding='same'))\n",
    "model.add( keras.layers.Conv2D(256, kernel_size=(3,3), activation='relu' , padding='same'))\n",
    "model.add( keras.layers.MaxPooling2D(pool_size=(2,2)))\n",
    "model.add( keras.layers.Dropout(0.4))\n",
    "\n",
    "model.add( keras.layers.Conv2D(512, kernel_size=(3,3), activation='relu' , padding='same'))\n",
    "model.add( keras.layers.Conv2D(512, kernel_size=(3,3), activation='relu' , padding='same'))\n",
    "model.add( keras.layers.MaxPooling2D(pool_size=(2,2)))\n",
    "model.add( keras.layers.Dropout(0.5))\n",
    "\n",
    "model.add( keras.layers.Flatten())\n",
    "model.add( keras.layers.Dense(512, activation='relu'))\n",
    "model.add( keras.layers.Dropout(0.5))\n",
    "model.add( keras.layers.Dense(10, activation='softmax'))\n",
    "\n",
    "# compile to model\n",
    "model.compile(optimizer='adam',\n",
    "              loss='categorical_crossentropy',\n",
    "              metrics=['accuracy'])\n",
    "\n",
    "# show summary\n",
    "model.summary()"
   ]
  },
  {
   "cell_type": "code",
   "execution_count": 21,
   "metadata": {},
   "outputs": [
    {
     "name": "stdout",
     "output_type": "stream",
     "text": [
      "Train on 60000 samples, validate on 10000 samples\n",
      "Epoch 1/20\n"
     ]
    },
    {
     "name": "stderr",
     "output_type": "stream",
     "text": [
      "INFO:plaidml:Analyzing Ops: 184 of 597 operations complete\n",
      "INFO:plaidml:Analyzing Ops: 232 of 597 operations complete\n"
     ]
    },
    {
     "name": "stdout",
     "output_type": "stream",
     "text": [
      "59600/60000 [============================>.] - ETA: 0s - loss: 0.8893 - acc: 0.6814"
     ]
    },
    {
     "name": "stderr",
     "output_type": "stream",
     "text": [
      "INFO:plaidml:Analyzing Ops: 79 of 151 operations complete\n"
     ]
    },
    {
     "name": "stdout",
     "output_type": "stream",
     "text": [
      "60000/60000 [==============================] - 96s 2ms/step - loss: 0.8840 - acc: 0.6833 - val_loss: 0.0677 - val_acc: 0.9781\n",
      "Epoch 2/20\n",
      "60000/60000 [==============================] - 82s 1ms/step - loss: 0.0867 - acc: 0.9763 - val_loss: 0.0362 - val_acc: 0.9891\n",
      "Epoch 3/20\n",
      "60000/60000 [==============================] - 82s 1ms/step - loss: 0.0585 - acc: 0.9840 - val_loss: 0.0340 - val_acc: 0.9907\n",
      "Epoch 4/20\n",
      "60000/60000 [==============================] - 82s 1ms/step - loss: 0.0475 - acc: 0.9873 - val_loss: 0.0274 - val_acc: 0.9921\n",
      "Epoch 5/20\n",
      "60000/60000 [==============================] - 82s 1ms/step - loss: 0.0349 - acc: 0.9904 - val_loss: 0.0256 - val_acc: 0.9934\n",
      "Epoch 6/20\n",
      "60000/60000 [==============================] - 82s 1ms/step - loss: 0.0307 - acc: 0.9915 - val_loss: 0.0211 - val_acc: 0.9943\n",
      "Epoch 7/20\n",
      "60000/60000 [==============================] - 82s 1ms/step - loss: 0.0293 - acc: 0.9916 - val_loss: 0.0267 - val_acc: 0.9922\n",
      "Epoch 8/20\n",
      "60000/60000 [==============================] - 82s 1ms/step - loss: 0.0287 - acc: 0.9920 - val_loss: 0.0240 - val_acc: 0.9932\n",
      "Epoch 9/20\n",
      "60000/60000 [==============================] - 82s 1ms/step - loss: 0.0241 - acc: 0.9932 - val_loss: 0.0199 - val_acc: 0.9938\n",
      "Epoch 10/20\n",
      "60000/60000 [==============================] - 82s 1ms/step - loss: 0.0221 - acc: 0.9941 - val_loss: 0.0254 - val_acc: 0.9936\n",
      "Epoch 11/20\n",
      "60000/60000 [==============================] - 82s 1ms/step - loss: 0.0207 - acc: 0.9942 - val_loss: 0.0290 - val_acc: 0.9931\n",
      "Epoch 12/20\n",
      "60000/60000 [==============================] - 82s 1ms/step - loss: 0.0209 - acc: 0.9943 - val_loss: 0.0219 - val_acc: 0.9935\n",
      "Epoch 13/20\n",
      "60000/60000 [==============================] - 82s 1ms/step - loss: 0.0203 - acc: 0.9943 - val_loss: 0.0284 - val_acc: 0.9926\n",
      "Epoch 14/20\n",
      "60000/60000 [==============================] - 82s 1ms/step - loss: 0.0182 - acc: 0.9948 - val_loss: 0.0250 - val_acc: 0.9938\n",
      "Epoch 15/20\n",
      "60000/60000 [==============================] - 82s 1ms/step - loss: 0.0185 - acc: 0.9947 - val_loss: 0.0245 - val_acc: 0.9942\n",
      "Epoch 16/20\n",
      "60000/60000 [==============================] - 82s 1ms/step - loss: 0.0168 - acc: 0.9955 - val_loss: 0.0247 - val_acc: 0.9938\n",
      "Epoch 17/20\n",
      "60000/60000 [==============================] - 82s 1ms/step - loss: 0.0147 - acc: 0.9958 - val_loss: 0.0228 - val_acc: 0.9939\n",
      "Epoch 18/20\n",
      "60000/60000 [==============================] - 82s 1ms/step - loss: 0.0150 - acc: 0.9958 - val_loss: 0.0291 - val_acc: 0.9932\n",
      "Epoch 19/20\n",
      "60000/60000 [==============================] - 82s 1ms/step - loss: 0.0171 - acc: 0.9955 - val_loss: 0.0266 - val_acc: 0.9939\n",
      "Epoch 20/20\n",
      "60000/60000 [==============================] - 82s 1ms/step - loss: 0.0153 - acc: 0.9954 - val_loss: 0.0242 - val_acc: 0.9939\n"
     ]
    }
   ],
   "source": [
    "#train the model with train data\n",
    "fit_history = model.fit(x_train2, y_train2,\n",
    "  epochs=epochs ,\n",
    "  batch_size=batch_size,\n",
    "  validation_data=(x_test2,y_test2)\n",
    ")"
   ]
  },
  {
   "cell_type": "code",
   "execution_count": 22,
   "metadata": {},
   "outputs": [
    {
     "data": {
      "image/png": "[encoded data removed]",
      "text/plain": [
       "<Figure size 432x288 with 1 Axes>"
      ]
     },
     "metadata": {
      "needs_background": "light"
     },
     "output_type": "display_data"
    },
    {
     "data": {
      "image/png": "[encoded data removed]",
      "text/plain": [
       "<Figure size 432x288 with 1 Axes>"
      ]
     },
     "metadata": {
      "needs_background": "light"
     },
     "output_type": "display_data"
    }
   ],
   "source": [
    "%matplotlib inline\n",
    "from matplotlib import pyplot as plt\n",
    "\n",
    "# show procession of training...\n",
    "plt.plot(fit_history.history['loss'])\n",
    "plt.plot(fit_history.history['val_loss'])\n",
    "\n",
    "plt.title('model loss')\n",
    "plt.ylabel('loss')\n",
    "plt.xlabel('epoch')\n",
    "plt.legend(['train', 'test'], loc='upper right')\n",
    "plt.show()\n",
    "\n",
    "plt.plot(fit_history.history['acc'])\n",
    "plt.plot(fit_history.history['val_acc'])\n",
    "\n",
    "plt.title('model accuracy')\n",
    "plt.ylabel('accuracy')\n",
    "plt.xlabel('epoch')\n",
    "plt.legend(['train', 'test'], loc='upper left')\n",
    "plt.show()\n",
    "plt.close()"
   ]
  },
  {
   "cell_type": "markdown",
   "metadata": {},
   "source": [
    "### this model achieved about 93% accuracy on the test data"
   ]
  }
 ],
 "metadata": {
  "kernelspec": {
   "display_name": "Python 3",
   "language": "python",
   "name": "python3"
  },
  "language_info": {
   "codemirror_mode": {
    "name": "ipython",
    "version": 3
   },
   "file_extension": ".py",
   "mimetype": "text/x-python",
   "name": "python",
   "nbconvert_exporter": "python",
   "pygments_lexer": "ipython3",
   "version": "3.6.8"
  }
 },
 "nbformat": 4,
 "nbformat_minor": 2
}
