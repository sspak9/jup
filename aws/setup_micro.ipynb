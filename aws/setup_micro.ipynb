{
 "cells": [
  {
   "cell_type": "markdown",
   "metadata": {},
   "source": [
    "### So you want to use AWS ec2 instance with GPU to train your models....\n",
    "Before you jump into using SageMaker ( a Docker based solution ), get yourself more familiar with using ec2\n",
    "\n",
    "Assumption is that either you have access to AWS service or can ask someone else to set it up for you\n",
    "\n",
    "The intent is to setup a Jupyter Notebook instance on AWS ec2, that you can access from your local laptop and create appropriate model. You will use t2.micro instance to check for valid syntax and valid function of the model. (less than 50 cents per day )\n",
    "\n",
    "Once you feel comfortable, you can create an ec2 instance with 1 GPU to verify the same using semi-long running training duration. ( about $22 per day )\n",
    "\n",
    "Finally, when you are really comfortable with the whole, follow SageMaker process to train your model on multi-GPU environment (if required)\n"
   ]
  },
  {
   "cell_type": "markdown",
   "metadata": {},
   "source": [
    "#### Create (or Launch) a new ec2 instance: t2.micro\n",
    "\n",
    "Select the instance that has python installed\n",
    "![ec2](ec2.png)\n",
    "\n",
    "Choose the t2.micro instance\n",
    "![t2micro](t2micro.png)\n",
    "\n",
    "Allow SSH and ports to be accessible\n",
    "![ports](ports.png)"
   ]
  },
  {
   "cell_type": "markdown",
   "metadata": {},
   "source": [
    "#### If using Windows to access ec2, you MUST use putty to convert \"key\" to putty private key\n",
    "\n",
    "Launch Putty Key Generator and read in the AWS generate key and save to putty private key\n",
    "![keygen](keygen.png)\n",
    "\n",
    "Save the private key. Let's assume it's mac.ppk\n",
    "\n",
    "\n",
    "#### setup the connection info in Putty\n",
    "\n",
    "When you try to connect to ec2 instance, you will see the ssh command something like:\n",
    "\n",
    "**ssh -i \"aws.key.pem\" ec2-user@somehost.compute.amazonaws.com**\n",
    "\n",
    "You will be using the ec2-user@somehost.compute.amazonaws.com value into Putty\n",
    "![connect](connect.png)\n",
    "\n",
    "Click Connection/SSH/Auth and read in the private key, for example: mac.ppk\n",
    "![loadkehy](loadkey.png)\n",
    "\n",
    "You will now setup tunnel to ec2 instance.\n",
    "Click Tunnel and enter:\n",
    "```\n",
    "source port = 8888\n",
    "destination = ec2-user@host.compute.amazonaws.com:8887\n",
    "```\n",
    "and Click Add\n",
    "![tunnel](tunnel.png)\n",
    "\n",
    "You can save the profile or click Open to get connected to ec2 instance.\n",
    "\n",
    "\n"
   ]
  },
  {
   "cell_type": "markdown",
   "metadata": {},
   "source": [
    "#### install Python 3.6 on ec2 instance\n",
    "Once you are connected execute `sudo yum list | grep python3`\n",
    "\n",
    "You will see a listing of `python36-<MODULE>.x86_64` Install all of them except the modules that end with `.686` and `debug` by executing `sudo yum install x y z` where x y z are the names of the modules\n",
    "\n",
    "You will be asked `Y/n` to continue. Hit `Y`\n",
    "\n",
    "After the installation completed, verify the version by executing `python3 --version`.  You should see an output 3.8.* where * is the latest version\n",
    "\n"
   ]
  },
  {
   "cell_type": "markdown",
   "metadata": {},
   "source": [
    "#### install pip\n",
    "Install pip by executing below:\n",
    "```\n",
    "mkdir stuff\n",
    "cd stuff\n",
    "curl https://bootstrap.pypa.io/get-pip.py -o get-pip.py\n",
    "python3 ./get-pip.py --user\n",
    "```\n"
   ]
  },
  {
   "cell_type": "markdown",
   "metadata": {},
   "source": [
    "#### install python modules using pip\n",
    "Create a file `requirement.txt` with the following content:\n",
    "```\n",
    "absl-py >= 0.7.0\n",
    "astor >= 0.6.0\n",
    "gast >= 0.2.0\n",
    "google_pasta >= 0.1.2\n",
    "keras_applications >= 1.0.6\n",
    "keras_preprocessing >= 1.0.5\n",
    "numpy >= 1.14.5, < 2.0\n",
    "six >= 1.10.0\n",
    "protobuf >= 3.6.1\n",
    "tensorboard >= 1.13.0, < 1.14.0\n",
    "tensorflow_estimator >= 1.13.0rc0, < 1.14.0rc0\n",
    "termcolor >= 1.1.0\n",
    "urllib3\n",
    "pyYAML\n",
    "scipy\n",
    "matplotlib\n",
    "pillow\n",
    "simpy\n",
    "nose\n",
    "pydot\n",
    "pandas\n",
    "tensorflow==1.13.1\n",
    "jupyter\n",
    "notebook\n",
    "keras\n",
    "```\n",
    "Execute command: `python3 -m pip -r requirement.txt --user` and the modules listed will get downloaded"
   ]
  },
  {
   "cell_type": "markdown",
   "metadata": {},
   "source": [
    "#### configure Jupyter Notebook\n",
    "execute below to configure Jupyter Notebook to be accessible from your local laptop.\n",
    "Basically generate and open up a config file:\n",
    "```\n",
    "jupyter notebook --generate-config\n",
    "cd ~/.jupyter\n",
    "vi jupyter_notebook_config.py\n",
    "```\n",
    "Uncomment and set values for these two lines:\n",
    "```\n",
    "c.NotebookApp.allow_origin = '*'\n",
    "c.NotebookApp.ip = '0.0.0.0'\n",
    "```\n",
    "And save the file"
   ]
  },
  {
   "cell_type": "markdown",
   "metadata": {},
   "source": [
    "#### launch Jupyter Notebook in non-browser mode\n",
    "launch jupyter notebook by executing:\n",
    "```\n",
    "jupyter notebook --no-browser --ip=0.0.0.0 --port=8887\n",
    "```\n",
    "You will see it launch. Note the `/?token=xyz...`\n",
    "![terminal](terminal.png)\n"
   ]
  },
  {
   "cell_type": "markdown",
   "metadata": {},
   "source": [
    "#### Connect to the AWS jupyter notebook from you local laptop\n",
    "Launch your browser and enter:\n",
    "```\n",
    "http://localhost:8888/?token=xyz...`\n",
    "```\n",
    "The value to enter for token should match what you see in the ec2 terminal\n",
    "\n",
    "You will now see Jupyter Notebook running on ec2\n",
    "![ec2 terminal](jup.png)\n"
   ]
  },
  {
   "cell_type": "markdown",
   "metadata": {},
   "source": [
    "### to transfer files between your laptop and ec2 instance, use psftp\n",
    "Use the following command to get connected to the ec2 instance via sftp using Putty\n",
    "```\n",
    "psftp -i <thekeyfile> ec2-user@somehost.compute.amazonaws.com\n",
    "```"
   ]
  },
  {
   "cell_type": "markdown",
   "metadata": {},
   "source": [
    "#### when done with Jupyter Notebook, at least stop the ec2 instance (or teminate if will not use anymore)"
   ]
  },
  {
   "cell_type": "code",
   "execution_count": null,
   "metadata": {},
   "outputs": [],
   "source": []
  }
 ],
 "metadata": {
  "kernelspec": {
   "display_name": "Python 3",
   "language": "python",
   "name": "python3"
  },
  "language_info": {
   "codemirror_mode": {
    "name": "ipython",
    "version": 3
   },
   "file_extension": ".py",
   "mimetype": "text/x-python",
   "name": "python",
   "nbconvert_exporter": "python",
   "pygments_lexer": "ipython3",
   "version": "3.6.8"
  }
 },
 "nbformat": 4,
 "nbformat_minor": 2
}
