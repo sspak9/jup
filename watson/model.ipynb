{
 "cells": [
  {
   "cell_type": "code",
   "execution_count": 136,
   "metadata": {},
   "outputs": [],
   "source": [
    "import numpy as np\n",
    "from tensorflow import keras\n",
    "%matplotlib inline\n",
    "from matplotlib import pyplot as plt"
   ]
  },
  {
   "cell_type": "code",
   "execution_count": 137,
   "metadata": {},
   "outputs": [],
   "source": [
    "labels = np.load('label.npy')\n",
    "data = np.load('dataset.npy')"
   ]
  },
  {
   "cell_type": "code",
   "execution_count": 138,
   "metadata": {},
   "outputs": [
    {
     "name": "stdout",
     "output_type": "stream",
     "text": [
      "label shape: (7032,)\n",
      "data shape: (7032, 45)\n"
     ]
    }
   ],
   "source": [
    "print('label shape:', labels.shape)\n",
    "print('data shape:', data.shape)"
   ]
  },
  {
   "cell_type": "code",
   "execution_count": 139,
   "metadata": {},
   "outputs": [
    {
     "name": "stdout",
     "output_type": "stream",
     "text": [
      "x_train shape: (5625, 45)\n",
      "y_train shape: (5625,)\n",
      "x_test shape: (1406, 45)\n",
      "y_test shape: (1406,)\n",
      "input shape: (45,)\n"
     ]
    }
   ],
   "source": [
    "test_ratio = .20\n",
    "train_count = int( len(data) * ( 1.0 - test_ratio))\n",
    "\n",
    "x_train = data[:train_count]\n",
    "y_train = labels[:train_count]\n",
    "x_test = data[train_count+1:]\n",
    "y_test = labels[train_count+1:]\n",
    "\n",
    "input_shape = (x_train.shape[1],)\n",
    "\n",
    "print('x_train shape:', x_train.shape)\n",
    "print('y_train shape:', y_train.shape)\n",
    "print('x_test shape:', x_test.shape)\n",
    "print('y_test shape:', y_test.shape)\n",
    "\n",
    "print('input shape:', input_shape)"
   ]
  },
  {
   "cell_type": "code",
   "execution_count": 140,
   "metadata": {},
   "outputs": [
    {
     "name": "stdout",
     "output_type": "stream",
     "text": [
      "_________________________________________________________________\n",
      "Layer (type)                 Output Shape              Param #   \n",
      "=================================================================\n",
      "dense_56 (Dense)             (None, 512)               23552     \n",
      "_________________________________________________________________\n",
      "dense_57 (Dense)             (None, 256)               131328    \n",
      "_________________________________________________________________\n",
      "dense_58 (Dense)             (None, 1)                 257       \n",
      "=================================================================\n",
      "Total params: 155,137\n",
      "Trainable params: 155,137\n",
      "Non-trainable params: 0\n",
      "_________________________________________________________________\n"
     ]
    }
   ],
   "source": [
    "model = keras.models.Sequential()\n",
    "\n",
    "# hidden layer\n",
    "model.add( keras.layers.Dense(512, input_shape=input_shape, activation='relu'))\n",
    "model.add( keras.layers.Dense(256,  activation='relu'))\n",
    "#output layer\n",
    "model.add( keras.layers.Dense(1, activation='sigmoid'))\n",
    "\n",
    "#sgd = keras.optimizers.SGD()\n",
    "# compile to model\n",
    "model.compile(optimizer='adam',\n",
    "              loss='binary_crossentropy',\n",
    "              metrics=['accuracy'])\n",
    "\n",
    "model.summary()"
   ]
  },
  {
   "cell_type": "code",
   "execution_count": 141,
   "metadata": {},
   "outputs": [
    {
     "name": "stdout",
     "output_type": "stream",
     "text": [
      "Train on 5625 samples, validate on 1406 samples\n",
      "Epoch 1/30\n",
      "5625/5625 [==============================] - 1s 203us/sample - loss: 3.9340 - acc: 0.7260 - val_loss: 3.3207 - val_acc: 0.7646\n",
      "Epoch 2/30\n",
      "5625/5625 [==============================] - 1s 119us/sample - loss: 2.9974 - acc: 0.7522 - val_loss: 2.9594 - val_acc: 0.7368\n",
      "Epoch 3/30\n",
      "5625/5625 [==============================] - 1s 119us/sample - loss: 2.4598 - acc: 0.7611 - val_loss: 2.4922 - val_acc: 0.7610\n",
      "Epoch 4/30\n",
      "5625/5625 [==============================] - 1s 114us/sample - loss: 3.0772 - acc: 0.7280 - val_loss: 2.6243 - val_acc: 0.7297\n",
      "Epoch 5/30\n",
      "5625/5625 [==============================] - 1s 114us/sample - loss: 2.7362 - acc: 0.7568 - val_loss: 2.4945 - val_acc: 0.7831\n",
      "Epoch 6/30\n",
      "5625/5625 [==============================] - 1s 114us/sample - loss: 1.9488 - acc: 0.7525 - val_loss: 2.3213 - val_acc: 0.7738\n",
      "Epoch 7/30\n",
      "5625/5625 [==============================] - 1s 119us/sample - loss: 1.5052 - acc: 0.7548 - val_loss: 2.1042 - val_acc: 0.4630\n",
      "Epoch 8/30\n",
      "5625/5625 [==============================] - 1s 117us/sample - loss: 0.5972 - acc: 0.7675 - val_loss: 0.4296 - val_acc: 0.7980\n",
      "Epoch 9/30\n",
      "5625/5625 [==============================] - 1s 117us/sample - loss: 0.4851 - acc: 0.7858 - val_loss: 0.4341 - val_acc: 0.7973\n",
      "Epoch 10/30\n",
      "5625/5625 [==============================] - 1s 117us/sample - loss: 0.4520 - acc: 0.7899 - val_loss: 0.4656 - val_acc: 0.7952\n",
      "Epoch 11/30\n",
      "5625/5625 [==============================] - 1s 119us/sample - loss: 0.4695 - acc: 0.7877 - val_loss: 0.4281 - val_acc: 0.8030\n",
      "Epoch 12/30\n",
      "5625/5625 [==============================] - 1s 117us/sample - loss: 0.4399 - acc: 0.7975 - val_loss: 0.4257 - val_acc: 0.7973\n",
      "Epoch 13/30\n",
      "5625/5625 [==============================] - 1s 117us/sample - loss: 0.4290 - acc: 0.8021 - val_loss: 0.4670 - val_acc: 0.8023\n",
      "Epoch 14/30\n",
      "5625/5625 [==============================] - 1s 119us/sample - loss: 0.4292 - acc: 0.8007 - val_loss: 0.4421 - val_acc: 0.7760\n",
      "Epoch 15/30\n",
      "5625/5625 [==============================] - 1s 117us/sample - loss: 0.4352 - acc: 0.7966 - val_loss: 0.4201 - val_acc: 0.7994\n",
      "Epoch 16/30\n",
      "5625/5625 [==============================] - 1s 119us/sample - loss: 0.4221 - acc: 0.8053 - val_loss: 0.4367 - val_acc: 0.7873\n",
      "Epoch 17/30\n",
      "5625/5625 [==============================] - 1s 119us/sample - loss: 0.4300 - acc: 0.7936 - val_loss: 0.4640 - val_acc: 0.7980\n",
      "Epoch 18/30\n",
      "5625/5625 [==============================] - 1s 117us/sample - loss: 0.4327 - acc: 0.8011 - val_loss: 0.4295 - val_acc: 0.8051\n",
      "Epoch 19/30\n",
      "5625/5625 [==============================] - 1s 117us/sample - loss: 0.4229 - acc: 0.8037 - val_loss: 0.4175 - val_acc: 0.8001\n",
      "Epoch 20/30\n",
      "5625/5625 [==============================] - 1s 117us/sample - loss: 0.4273 - acc: 0.7977 - val_loss: 0.4213 - val_acc: 0.8023\n",
      "Epoch 21/30\n",
      "5625/5625 [==============================] - 1s 114us/sample - loss: 0.4290 - acc: 0.8007 - val_loss: 0.4196 - val_acc: 0.8030\n",
      "Epoch 22/30\n",
      "5625/5625 [==============================] - 1s 117us/sample - loss: 0.4248 - acc: 0.8025 - val_loss: 0.4397 - val_acc: 0.7909\n",
      "Epoch 23/30\n",
      "5625/5625 [==============================] - 1s 117us/sample - loss: 0.4291 - acc: 0.7980 - val_loss: 0.4334 - val_acc: 0.7881\n",
      "Epoch 24/30\n",
      "5625/5625 [==============================] - 1s 117us/sample - loss: 0.4315 - acc: 0.7970 - val_loss: 0.4256 - val_acc: 0.7952\n",
      "Epoch 25/30\n",
      "5625/5625 [==============================] - 1s 119us/sample - loss: 0.4228 - acc: 0.8009 - val_loss: 0.4197 - val_acc: 0.7987\n",
      "Epoch 26/30\n",
      "5625/5625 [==============================] - 1s 117us/sample - loss: 0.4232 - acc: 0.8044 - val_loss: 0.4275 - val_acc: 0.7973\n",
      "Epoch 27/30\n",
      "5625/5625 [==============================] - 1s 117us/sample - loss: 0.4186 - acc: 0.7995 - val_loss: 0.4244 - val_acc: 0.8009\n",
      "Epoch 28/30\n",
      "5625/5625 [==============================] - 1s 117us/sample - loss: 0.4190 - acc: 0.8027 - val_loss: 0.4179 - val_acc: 0.7966\n",
      "Epoch 29/30\n",
      "5625/5625 [==============================] - 1s 115us/sample - loss: 0.4180 - acc: 0.8012 - val_loss: 0.4341 - val_acc: 0.8001\n",
      "Epoch 30/30\n",
      "5625/5625 [==============================] - 1s 119us/sample - loss: 0.4200 - acc: 0.8021 - val_loss: 0.4298 - val_acc: 0.7973\n"
     ]
    }
   ],
   "source": [
    "#train the model with train data\n",
    "fit_history = model.fit(x_train, y_train,\n",
    "  epochs=30 ,\n",
    "  batch_size=32,\n",
    "  validation_data=(x_test,y_test)\n",
    ")"
   ]
  },
  {
   "cell_type": "code",
   "execution_count": 142,
   "metadata": {},
   "outputs": [
    {
     "data": {
      "image/png": "[encoded data removed]",
      "text/plain": [
       "<Figure size 432x288 with 1 Axes>"
      ]
     },
     "metadata": {
      "needs_background": "light"
     },
     "output_type": "display_data"
    },
    {
     "data": {
      "image/png": "[encoded data removed]",
      "text/plain": [
       "<Figure size 432x288 with 1 Axes>"
      ]
     },
     "metadata": {
      "needs_background": "light"
     },
     "output_type": "display_data"
    }
   ],
   "source": [
    "# show procession of training...\n",
    "plt.plot(fit_history.history['loss'])\n",
    "plt.plot(fit_history.history['val_loss'])\n",
    "\n",
    "plt.title('model loss')\n",
    "plt.ylabel('loss')\n",
    "plt.xlabel('epoch')\n",
    "plt.legend(['train', 'test'], loc='upper right')\n",
    "plt.show()\n",
    "\n",
    "plt.plot(fit_history.history['acc'])\n",
    "plt.plot(fit_history.history['val_acc'])\n",
    "\n",
    "plt.title('model accuracy')\n",
    "plt.ylabel('accuracy')\n",
    "plt.xlabel('epoch')\n",
    "plt.legend(['train', 'test'], loc='upper left')\n",
    "plt.show()\n",
    "plt.close()"
   ]
  },
  {
   "cell_type": "code",
   "execution_count": null,
   "metadata": {},
   "outputs": [],
   "source": []
  }
 ],
 "metadata": {
  "kernelspec": {
   "display_name": "Python 3",
   "language": "python",
   "name": "python3"
  },
  "language_info": {
   "codemirror_mode": {
    "name": "ipython",
    "version": 3
   },
   "file_extension": ".py",
   "mimetype": "text/x-python",
   "name": "python",
   "nbconvert_exporter": "python",
   "pygments_lexer": "ipython3",
   "version": "3.6.8"
  }
 },
 "nbformat": 4,
 "nbformat_minor": 2
}
