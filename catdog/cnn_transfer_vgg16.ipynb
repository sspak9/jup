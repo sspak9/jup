{
 "cells": [
  {
   "cell_type": "markdown",
   "metadata": {},
   "source": [
    "### use vgg16 model to train dog vs cat\n",
    "\n",
    "This model REALLY needs to use GPU. Below shows the full utilization on AWS p2.xlarge\n",
    "```\n",
    "+-----------------------------------------------------------------------------+\n",
    "| NVIDIA-SMI 410.104      Driver Version: 410.104      CUDA Version: 10.0     |\n",
    "|-------------------------------+----------------------+----------------------+\n",
    "| GPU  Name        Persistence-M| Bus-Id        Disp.A | Volatile Uncorr. ECC |\n",
    "| Fan  Temp  Perf  Pwr:Usage/Cap|         Memory-Usage | GPU-Util  Compute M. |\n",
    "|===============================+======================+======================|\n",
    "|   0  Tesla K80           On   | 00000000:00:1E.0 Off |                    0 |\n",
    "| N/A   81C    P0   141W / 149W |  11020MiB / 11441MiB |    100%      Default |\n",
    "+-------------------------------+----------------------+----------------------+\n",
    "\n",
    "+-----------------------------------------------------------------------------+\n",
    "| Processes:                                                       GPU Memory |\n",
    "|  GPU       PID   Type   Process name                             Usage      |\n",
    "|=============================================================================|\n",
    "|    0      6018      C   ...naconda3/envs/tensorflow_p36/bin/python 11005MiB |\n",
    "+-----------------------------------------------------------------------------+\n",
    "```\n",
    "And using 50 to 100% of available CPU\n",
    "```\n",
    "  PID USER      PR  NI    VIRT    RES    SHR S  %CPU %MEM     TIME+ COMMAND\n",
    "6018 ec2-user  20   0   88.8g   6.0g   1.5g S 114.3 10.0   6:56.15 ZMQbg/1\n",
    "```\n",
    "\n"
   ]
  },
  {
   "cell_type": "code",
   "execution_count": 31,
   "metadata": {},
   "outputs": [],
   "source": [
    "import numpy as np\n",
    "from tensorflow import keras\n",
    "import glob\n",
    "import cv2"
   ]
  },
  {
   "cell_type": "code",
   "execution_count": 32,
   "metadata": {},
   "outputs": [
    {
     "name": "stdout",
     "output_type": "stream",
     "text": [
      "input shape: (224, 224, 3)\n"
     ]
    }
   ],
   "source": [
    "# read one image to veify size\n",
    "test_images = glob.glob('test/*/*.jpg')\n",
    "train_images = glob.glob('train/*/*.jpg')\n",
    "\n",
    "single_image = test_images[0]\n",
    "img = cv2.imread(single_image)\n",
    "h,w,c = img.shape\n",
    "input_shape=(h,w,c)\n",
    "\n",
    "print('input shape:', input_shape)"
   ]
  },
  {
   "cell_type": "code",
   "execution_count": 33,
   "metadata": {},
   "outputs": [],
   "source": [
    "# define the model\n",
    "def setup_vgg16_model(input_shape):\n",
    "    \n",
    "    model = keras.applications.vgg16.VGG16(include_top='False', input_shape=input_shape)\n",
    "    # make all layers are not trainable\n",
    "    \n",
    "    for layer in model.layers:\n",
    "        layer.trainable = False\n",
    "        \n",
    "    #model.summary()\n",
    "    \n",
    "    layer_dict = dict([(layer.name, layer) for layer in model.layers])\n",
    "    \n",
    "    # we want to connext out own dense after fc2\n",
    "    x = layer_dict['fc2'].output\n",
    "    \n",
    "    # new output is adding flatten , dense(128) , and dense(1)\n",
    "    \n",
    "    x = keras.layers.Dense(128,activation='relu')(x)\n",
    "    x = keras.layers.Dense(1,activation='sigmoid')(x)\n",
    "    \n",
    "    mymodel = keras.models.Model(inputs=model.input , outputs=x)\n",
    "    opt = keras.optimizers.SGD(lr=0.001, momentum=0.9)\n",
    "    mymodel.compile(optimizer=opt, loss='binary_crossentropy', metrics=['accuracy'])\n",
    "\n",
    "    return mymodel\n"
   ]
  },
  {
   "cell_type": "code",
   "execution_count": 34,
   "metadata": {},
   "outputs": [
    {
     "name": "stdout",
     "output_type": "stream",
     "text": [
      "_________________________________________________________________\n",
      "Layer (type)                 Output Shape              Param #   \n",
      "=================================================================\n",
      "input_6 (InputLayer)         (None, 224, 224, 3)       0         \n",
      "_________________________________________________________________\n",
      "block1_conv1 (Conv2D)        (None, 224, 224, 64)      1792      \n",
      "_________________________________________________________________\n",
      "block1_conv2 (Conv2D)        (None, 224, 224, 64)      36928     \n",
      "_________________________________________________________________\n",
      "block1_pool (MaxPooling2D)   (None, 112, 112, 64)      0         \n",
      "_________________________________________________________________\n",
      "block2_conv1 (Conv2D)        (None, 112, 112, 128)     73856     \n",
      "_________________________________________________________________\n",
      "block2_conv2 (Conv2D)        (None, 112, 112, 128)     147584    \n",
      "_________________________________________________________________\n",
      "block2_pool (MaxPooling2D)   (None, 56, 56, 128)       0         \n",
      "_________________________________________________________________\n",
      "block3_conv1 (Conv2D)        (None, 56, 56, 256)       295168    \n",
      "_________________________________________________________________\n",
      "block3_conv2 (Conv2D)        (None, 56, 56, 256)       590080    \n",
      "_________________________________________________________________\n",
      "block3_conv3 (Conv2D)        (None, 56, 56, 256)       590080    \n",
      "_________________________________________________________________\n",
      "block3_pool (MaxPooling2D)   (None, 28, 28, 256)       0         \n",
      "_________________________________________________________________\n",
      "block4_conv1 (Conv2D)        (None, 28, 28, 512)       1180160   \n",
      "_________________________________________________________________\n",
      "block4_conv2 (Conv2D)        (None, 28, 28, 512)       2359808   \n",
      "_________________________________________________________________\n",
      "block4_conv3 (Conv2D)        (None, 28, 28, 512)       2359808   \n",
      "_________________________________________________________________\n",
      "block4_pool (MaxPooling2D)   (None, 14, 14, 512)       0         \n",
      "_________________________________________________________________\n",
      "block5_conv1 (Conv2D)        (None, 14, 14, 512)       2359808   \n",
      "_________________________________________________________________\n",
      "block5_conv2 (Conv2D)        (None, 14, 14, 512)       2359808   \n",
      "_________________________________________________________________\n",
      "block5_conv3 (Conv2D)        (None, 14, 14, 512)       2359808   \n",
      "_________________________________________________________________\n",
      "block5_pool (MaxPooling2D)   (None, 7, 7, 512)         0         \n",
      "_________________________________________________________________\n",
      "flatten (Flatten)            (None, 25088)             0         \n",
      "_________________________________________________________________\n",
      "fc1 (Dense)                  (None, 4096)              102764544 \n",
      "_________________________________________________________________\n",
      "fc2 (Dense)                  (None, 4096)              16781312  \n",
      "_________________________________________________________________\n",
      "dense_10 (Dense)             (None, 128)               524416    \n",
      "_________________________________________________________________\n",
      "dense_11 (Dense)             (None, 1)                 129       \n",
      "=================================================================\n",
      "Total params: 134,785,089\n",
      "Trainable params: 524,545\n",
      "Non-trainable params: 134,260,544\n",
      "_________________________________________________________________\n"
     ]
    }
   ],
   "source": [
    "model = setup_vgg16_model(input_shape)\n",
    "\n",
    "model.summary()"
   ]
  },
  {
   "cell_type": "code",
   "execution_count": 35,
   "metadata": {},
   "outputs": [
    {
     "name": "stdout",
     "output_type": "stream",
     "text": [
      "Found 18711 images belonging to 2 classes.\n",
      "Found 6235 images belonging to 2 classes.\n",
      "length of iterations for train,test: 293 98\n"
     ]
    }
   ],
   "source": [
    "\n",
    "batch_size=64\n",
    "\n",
    "datagen = keras.preprocessing.image.ImageDataGenerator(featurewise_center=True)\n",
    "datagen.mean = [123.68, 116.779, 103.939]\n",
    "                                                       \n",
    "train_iter = datagen.flow_from_directory('train/',class_mode='binary', target_size=(h,h), batch_size=batch_size)\n",
    "test_iter = datagen.flow_from_directory('test/',class_mode='binary', target_size=(h,h), batch_size=batch_size)\n",
    "\n",
    "print('length of iterations for train,test:', len(train_iter), len(test_iter))\n",
    "                                                     "
   ]
  },
  {
   "cell_type": "code",
   "execution_count": 36,
   "metadata": {},
   "outputs": [
    {
     "name": "stdout",
     "output_type": "stream",
     "text": [
      "Epoch 1/10\n",
      "98/98 [==============================] - 55s 563ms/step - loss: 0.0577 - acc: 0.9761\n",
      "293/293 [==============================] - 220s 750ms/step - loss: 0.0824 - acc: 0.9667 - val_loss: 0.0577 - val_acc: 0.9761\n",
      "Epoch 2/10\n",
      "98/98 [==============================] - 55s 560ms/step - loss: 0.0524 - acc: 0.9801\n",
      "293/293 [==============================] - 219s 749ms/step - loss: 0.0516 - acc: 0.9799 - val_loss: 0.0524 - val_acc: 0.9801\n",
      "Epoch 3/10\n",
      "98/98 [==============================] - 55s 560ms/step - loss: 0.0506 - acc: 0.9798\n",
      "293/293 [==============================] - 219s 749ms/step - loss: 0.0449 - acc: 0.9832 - val_loss: 0.0506 - val_acc: 0.9798\n",
      "Epoch 4/10\n",
      "98/98 [==============================] - 55s 560ms/step - loss: 0.0475 - acc: 0.9812\n",
      "293/293 [==============================] - 219s 748ms/step - loss: 0.0398 - acc: 0.9857 - val_loss: 0.0475 - val_acc: 0.9812\n",
      "Epoch 5/10\n",
      "98/98 [==============================] - 55s 561ms/step - loss: 0.0478 - acc: 0.9808\n",
      "293/293 [==============================] - 219s 747ms/step - loss: 0.0358 - acc: 0.9878 - val_loss: 0.0478 - val_acc: 0.9808\n",
      "Epoch 6/10\n",
      "98/98 [==============================] - 55s 559ms/step - loss: 0.0502 - acc: 0.9796\n",
      "293/293 [==============================] - 219s 747ms/step - loss: 0.0322 - acc: 0.9894 - val_loss: 0.0502 - val_acc: 0.9796\n",
      "Epoch 7/10\n",
      "98/98 [==============================] - 55s 559ms/step - loss: 0.0484 - acc: 0.9808\n",
      "293/293 [==============================] - 219s 747ms/step - loss: 0.0295 - acc: 0.9902 - val_loss: 0.0484 - val_acc: 0.9808\n",
      "Epoch 8/10\n",
      "98/98 [==============================] - 55s 560ms/step - loss: 0.0488 - acc: 0.9806\n",
      "293/293 [==============================] - 219s 747ms/step - loss: 0.0269 - acc: 0.9919 - val_loss: 0.0488 - val_acc: 0.9806\n",
      "Epoch 9/10\n",
      "98/98 [==============================] - 55s 560ms/step - loss: 0.0557 - acc: 0.9790\n",
      "293/293 [==============================] - 219s 747ms/step - loss: 0.0243 - acc: 0.9927 - val_loss: 0.0557 - val_acc: 0.9790\n",
      "Epoch 10/10\n",
      "98/98 [==============================] - 55s 560ms/step - loss: 0.0498 - acc: 0.9811\n",
      "293/293 [==============================] - 219s 747ms/step - loss: 0.0221 - acc: 0.9941 - val_loss: 0.0498 - val_acc: 0.9811\n"
     ]
    }
   ],
   "source": [
    "#train the model with train data and check each epoch against test data\n",
    "fit_history = model.fit_generator(train_iter, \n",
    "                                  steps_per_epoch=len(train_iter), \n",
    "                                  #workers=2,\n",
    "                                  epochs=10,\n",
    "                                  validation_data=test_iter,\n",
    "                                  validation_steps=len(test_iter)\n",
    "                    )"
   ]
  },
  {
   "cell_type": "code",
   "execution_count": 37,
   "metadata": {},
   "outputs": [],
   "source": [
    "model.save('vgg16_model.h5')"
   ]
  },
  {
   "cell_type": "code",
   "execution_count": 38,
   "metadata": {},
   "outputs": [
    {
     "data": {
      "image/png": "[encoded data removed]",
      "text/plain": [
       "<Figure size 432x288 with 1 Axes>"
      ]
     },
     "metadata": {},
     "output_type": "display_data"
    },
    {
     "data": {
      "image/png": "[encoded data removed]",
      "text/plain": [
       "<Figure size 432x288 with 1 Axes>"
      ]
     },
     "metadata": {},
     "output_type": "display_data"
    }
   ],
   "source": [
    "%matplotlib inline\n",
    "from matplotlib import pyplot as plt\n",
    "\n",
    "# show procession of training...\n",
    "plt.plot(fit_history.history['loss'])\n",
    "plt.plot(fit_history.history['val_loss'])\n",
    "\n",
    "plt.title('model loss')\n",
    "plt.ylabel('loss')\n",
    "plt.xlabel('epoch')\n",
    "plt.legend(['train', 'test'], loc='upper right')\n",
    "plt.show()\n",
    "\n",
    "plt.plot(fit_history.history['acc'])\n",
    "plt.plot(fit_history.history['val_acc'])\n",
    "\n",
    "plt.title('model accuracy')\n",
    "plt.ylabel('accuracy')\n",
    "plt.xlabel('epoch')\n",
    "plt.legend(['train', 'test'], loc='lower right')\n",
    "plt.show()\n",
    "plt.close()"
   ]
  },
  {
   "cell_type": "code",
   "execution_count": null,
   "metadata": {},
   "outputs": [],
   "source": []
  }
 ],
 "metadata": {
  "kernelspec": {
   "display_name": "Python 3",
   "language": "python",
   "name": "python3"
  },
  "language_info": {
   "codemirror_mode": {
    "name": "ipython",
    "version": 3
   },
   "file_extension": ".py",
   "mimetype": "text/x-python",
   "name": "python",
   "nbconvert_exporter": "python",
   "pygments_lexer": "ipython3",
   "version": "3.6.5"
  }
 },
 "nbformat": 4,
 "nbformat_minor": 2
}
