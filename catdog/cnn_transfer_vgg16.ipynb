{
 "cells": [
  {
   "cell_type": "markdown",
   "metadata": {},
   "source": [
    "### use vgg16 model to train dog vs cat\n",
    "\n",
    "This model REALLY needs to use GPU.\n",
    "\n",
    "Using plaidml backend on Mac Pro takes about 1318 seconds/epoch\n",
    "\n",
    "On p2.xlarge, about 232 seconds => about 5.8x faster\n",
    "\n",
    "Below shows the full utilization on AWS p2.xlarge\n",
    "```\n",
    "+-----------------------------------------------------------------------------+\n",
    "| NVIDIA-SMI 410.104      Driver Version: 410.104      CUDA Version: 10.0     |\n",
    "|-------------------------------+----------------------+----------------------+\n",
    "| GPU  Name        Persistence-M| Bus-Id        Disp.A | Volatile Uncorr. ECC |\n",
    "| Fan  Temp  Perf  Pwr:Usage/Cap|         Memory-Usage | GPU-Util  Compute M. |\n",
    "|===============================+======================+======================|\n",
    "|   0  Tesla K80           On   | 00000000:00:1E.0 Off |                    0 |\n",
    "| N/A   81C    P0   154W / 149W |  11020MiB / 11441MiB |    100%      Default |\n",
    "+-------------------------------+----------------------+----------------------+\n",
    "\n",
    "+-----------------------------------------------------------------------------+\n",
    "| Processes:                                                       GPU Memory |\n",
    "|  GPU       PID   Type   Process name                             Usage      |\n",
    "|=============================================================================|\n",
    "|    0      6018      C   ...naconda3/envs/tensorflow_p36/bin/python 11005MiB |\n",
    "+-----------------------------------------------------------------------------+\n",
    "```\n",
    "And using 50% of available CPU\n",
    "```\n",
    "  PID USER      PR  NI    VIRT    RES    SHR S  %CPU %MEM     TIME+ COMMAND\n",
    "6018 ec2-user  20   0   88.8g   6.0g   1.5g S  55.3 10.0   6:56.15 ZMQbg/1\n",
    "```\n",
    "Note: if the training and test data sets could be read into memory, instead of reading from disk, it could be a bit faster. or use local GPU ( like 1080Ti or 2080 RTX Ti )\n"
   ]
  },
  {
   "cell_type": "code",
   "execution_count": 1,
   "metadata": {},
   "outputs": [],
   "source": [
    "import numpy as np\n",
    "from tensorflow import keras\n",
    "import glob\n",
    "import cv2"
   ]
  },
  {
   "cell_type": "code",
   "execution_count": 2,
   "metadata": {},
   "outputs": [
    {
     "name": "stdout",
     "output_type": "stream",
     "text": [
      "input shape: (224, 224, 3)\n"
     ]
    }
   ],
   "source": [
    "# read one image to veify size\n",
    "test_images = glob.glob('test/*/*.jpg')\n",
    "train_images = glob.glob('train/*/*.jpg')\n",
    "\n",
    "single_image = test_images[0]\n",
    "img = cv2.imread(single_image)\n",
    "h,w,c = img.shape\n",
    "input_shape=(h,w,c)\n",
    "\n",
    "print('input shape:', input_shape)"
   ]
  },
  {
   "cell_type": "code",
   "execution_count": 3,
   "metadata": {},
   "outputs": [],
   "source": [
    "# define the model\n",
    "def setup_vgg16_model(input_shape):\n",
    "    \n",
    "    model = keras.applications.vgg16.VGG16(include_top=False, input_shape=input_shape)\n",
    "    # make all layers are not trainable\n",
    "    \n",
    "    for layer in model.layers:\n",
    "        layer.trainable = False\n",
    "        \n",
    "    model.summary()\n",
    "    \n",
    "    # we want to connext out own dense after fc2\n",
    "    x = model.output\n",
    "    \n",
    "    # new output is adding flatten , dense(128) , and dense(1)\n",
    "    x = keras.layers.Dropout(0.5)(x)\n",
    "    x = keras.layers.Flatten()(x)\n",
    "    x = keras.layers.Dense(512,activation='relu')(x)\n",
    "    x = keras.layers.Dropout(0.5)(x)\n",
    "    x = keras.layers.Dense(1,activation='sigmoid')(x)\n",
    "    \n",
    "    mymodel = keras.models.Model(inputs=model.input , outputs=x)\n",
    "    opt = keras.optimizers.SGD(lr=0.001, momentum=0.9)\n",
    "    mymodel.compile(optimizer=opt, loss='binary_crossentropy', metrics=['accuracy'])\n",
    "\n",
    "    return mymodel\n"
   ]
  },
  {
   "cell_type": "code",
   "execution_count": 4,
   "metadata": {},
   "outputs": [
    {
     "name": "stdout",
     "output_type": "stream",
     "text": [
      "WARNING:tensorflow:From /home/ec2-user/anaconda3/envs/tensorflow_p36/lib/python3.6/site-packages/tensorflow/python/ops/resource_variable_ops.py:435: colocate_with (from tensorflow.python.framework.ops) is deprecated and will be removed in a future version.\n",
      "Instructions for updating:\n",
      "Colocations handled automatically by placer.\n",
      "Downloading data from https://github.com/fchollet/deep-learning-models/releases/download/v0.1/vgg16_weights_tf_dim_ordering_tf_kernels_notop.h5\n",
      "58892288/58889256 [==============================] - 1s 0us/step\n",
      "_________________________________________________________________\n",
      "Layer (type)                 Output Shape              Param #   \n",
      "=================================================================\n",
      "input_1 (InputLayer)         (None, 224, 224, 3)       0         \n",
      "_________________________________________________________________\n",
      "block1_conv1 (Conv2D)        (None, 224, 224, 64)      1792      \n",
      "_________________________________________________________________\n",
      "block1_conv2 (Conv2D)        (None, 224, 224, 64)      36928     \n",
      "_________________________________________________________________\n",
      "block1_pool (MaxPooling2D)   (None, 112, 112, 64)      0         \n",
      "_________________________________________________________________\n",
      "block2_conv1 (Conv2D)        (None, 112, 112, 128)     73856     \n",
      "_________________________________________________________________\n",
      "block2_conv2 (Conv2D)        (None, 112, 112, 128)     147584    \n",
      "_________________________________________________________________\n",
      "block2_pool (MaxPooling2D)   (None, 56, 56, 128)       0         \n",
      "_________________________________________________________________\n",
      "block3_conv1 (Conv2D)        (None, 56, 56, 256)       295168    \n",
      "_________________________________________________________________\n",
      "block3_conv2 (Conv2D)        (None, 56, 56, 256)       590080    \n",
      "_________________________________________________________________\n",
      "block3_conv3 (Conv2D)        (None, 56, 56, 256)       590080    \n",
      "_________________________________________________________________\n",
      "block3_pool (MaxPooling2D)   (None, 28, 28, 256)       0         \n",
      "_________________________________________________________________\n",
      "block4_conv1 (Conv2D)        (None, 28, 28, 512)       1180160   \n",
      "_________________________________________________________________\n",
      "block4_conv2 (Conv2D)        (None, 28, 28, 512)       2359808   \n",
      "_________________________________________________________________\n",
      "block4_conv3 (Conv2D)        (None, 28, 28, 512)       2359808   \n",
      "_________________________________________________________________\n",
      "block4_pool (MaxPooling2D)   (None, 14, 14, 512)       0         \n",
      "_________________________________________________________________\n",
      "block5_conv1 (Conv2D)        (None, 14, 14, 512)       2359808   \n",
      "_________________________________________________________________\n",
      "block5_conv2 (Conv2D)        (None, 14, 14, 512)       2359808   \n",
      "_________________________________________________________________\n",
      "block5_conv3 (Conv2D)        (None, 14, 14, 512)       2359808   \n",
      "_________________________________________________________________\n",
      "block5_pool (MaxPooling2D)   (None, 7, 7, 512)         0         \n",
      "=================================================================\n",
      "Total params: 14,714,688\n",
      "Trainable params: 0\n",
      "Non-trainable params: 14,714,688\n",
      "_________________________________________________________________\n",
      "WARNING:tensorflow:From /home/ec2-user/anaconda3/envs/tensorflow_p36/lib/python3.6/site-packages/tensorflow/python/keras/layers/core.py:143: calling dropout (from tensorflow.python.ops.nn_ops) with keep_prob is deprecated and will be removed in a future version.\n",
      "Instructions for updating:\n",
      "Please use `rate` instead of `keep_prob`. Rate should be set to `rate = 1 - keep_prob`.\n",
      "_________________________________________________________________\n",
      "Layer (type)                 Output Shape              Param #   \n",
      "=================================================================\n",
      "input_1 (InputLayer)         (None, 224, 224, 3)       0         \n",
      "_________________________________________________________________\n",
      "block1_conv1 (Conv2D)        (None, 224, 224, 64)      1792      \n",
      "_________________________________________________________________\n",
      "block1_conv2 (Conv2D)        (None, 224, 224, 64)      36928     \n",
      "_________________________________________________________________\n",
      "block1_pool (MaxPooling2D)   (None, 112, 112, 64)      0         \n",
      "_________________________________________________________________\n",
      "block2_conv1 (Conv2D)        (None, 112, 112, 128)     73856     \n",
      "_________________________________________________________________\n",
      "block2_conv2 (Conv2D)        (None, 112, 112, 128)     147584    \n",
      "_________________________________________________________________\n",
      "block2_pool (MaxPooling2D)   (None, 56, 56, 128)       0         \n",
      "_________________________________________________________________\n",
      "block3_conv1 (Conv2D)        (None, 56, 56, 256)       295168    \n",
      "_________________________________________________________________\n",
      "block3_conv2 (Conv2D)        (None, 56, 56, 256)       590080    \n",
      "_________________________________________________________________\n",
      "block3_conv3 (Conv2D)        (None, 56, 56, 256)       590080    \n",
      "_________________________________________________________________\n",
      "block3_pool (MaxPooling2D)   (None, 28, 28, 256)       0         \n",
      "_________________________________________________________________\n",
      "block4_conv1 (Conv2D)        (None, 28, 28, 512)       1180160   \n",
      "_________________________________________________________________\n",
      "block4_conv2 (Conv2D)        (None, 28, 28, 512)       2359808   \n",
      "_________________________________________________________________\n",
      "block4_conv3 (Conv2D)        (None, 28, 28, 512)       2359808   \n",
      "_________________________________________________________________\n",
      "block4_pool (MaxPooling2D)   (None, 14, 14, 512)       0         \n",
      "_________________________________________________________________\n",
      "block5_conv1 (Conv2D)        (None, 14, 14, 512)       2359808   \n",
      "_________________________________________________________________\n",
      "block5_conv2 (Conv2D)        (None, 14, 14, 512)       2359808   \n",
      "_________________________________________________________________\n",
      "block5_conv3 (Conv2D)        (None, 14, 14, 512)       2359808   \n",
      "_________________________________________________________________\n",
      "block5_pool (MaxPooling2D)   (None, 7, 7, 512)         0         \n",
      "_________________________________________________________________\n",
      "dropout (Dropout)            (None, 7, 7, 512)         0         \n",
      "_________________________________________________________________\n",
      "flatten (Flatten)            (None, 25088)             0         \n",
      "_________________________________________________________________\n",
      "dense (Dense)                (None, 512)               12845568  \n",
      "_________________________________________________________________\n",
      "dropout_1 (Dropout)          (None, 512)               0         \n",
      "_________________________________________________________________\n",
      "dense_1 (Dense)              (None, 1)                 513       \n",
      "=================================================================\n",
      "Total params: 27,560,769\n",
      "Trainable params: 12,846,081\n",
      "Non-trainable params: 14,714,688\n",
      "_________________________________________________________________\n"
     ]
    }
   ],
   "source": [
    "model = setup_vgg16_model(input_shape)\n",
    "\n",
    "model.summary()"
   ]
  },
  {
   "cell_type": "code",
   "execution_count": 5,
   "metadata": {},
   "outputs": [
    {
     "name": "stdout",
     "output_type": "stream",
     "text": [
      "Found 18712 images belonging to 2 classes.\n",
      "Found 6234 images belonging to 2 classes.\n",
      "length of iterations for train,test: 293 98\n"
     ]
    }
   ],
   "source": [
    "\n",
    "batch_size=64\n",
    "\n",
    "datagen = keras.preprocessing.image.ImageDataGenerator(featurewise_center=True)\n",
    "datagen.mean = [123.68, 116.779, 103.939]\n",
    "                                                       \n",
    "train_iter = datagen.flow_from_directory('train/',class_mode='binary', target_size=(h,h), batch_size=batch_size)\n",
    "test_iter = datagen.flow_from_directory('test/',class_mode='binary', target_size=(h,h), batch_size=batch_size)\n",
    "\n",
    "print('length of iterations for train,test:', len(train_iter), len(test_iter))\n",
    "                                                     "
   ]
  },
  {
   "cell_type": "code",
   "execution_count": 6,
   "metadata": {},
   "outputs": [
    {
     "name": "stdout",
     "output_type": "stream",
     "text": [
      "WARNING:tensorflow:From /home/ec2-user/anaconda3/envs/tensorflow_p36/lib/python3.6/site-packages/tensorflow/python/ops/math_ops.py:3066: to_int32 (from tensorflow.python.ops.math_ops) is deprecated and will be removed in a future version.\n",
      "Instructions for updating:\n",
      "Use tf.cast instead.\n",
      "Epoch 1/10\n",
      "98/98 [==============================] - 57s 586ms/step - loss: 0.6164 - acc: 0.9599\n",
      "293/293 [==============================] - 232s 792ms/step - loss: 1.1261 - acc: 0.9242 - val_loss: 0.6164 - val_acc: 0.9599\n",
      "Epoch 2/10\n",
      "98/98 [==============================] - 55s 562ms/step - loss: 0.7037 - acc: 0.9549\n",
      "293/293 [==============================] - 222s 756ms/step - loss: 0.8515 - acc: 0.9456 - val_loss: 0.7037 - val_acc: 0.9549\n",
      "Epoch 3/10\n",
      "98/98 [==============================] - 55s 562ms/step - loss: 0.4511 - acc: 0.9713\n",
      "293/293 [==============================] - 221s 755ms/step - loss: 0.6827 - acc: 0.9564 - val_loss: 0.4511 - val_acc: 0.9713\n",
      "Epoch 4/10\n",
      "98/98 [==============================] - 55s 562ms/step - loss: 0.5223 - acc: 0.9670\n",
      "293/293 [==============================] - 222s 757ms/step - loss: 0.7338 - acc: 0.9536 - val_loss: 0.5223 - val_acc: 0.9670\n",
      "Epoch 5/10\n",
      "98/98 [==============================] - 55s 562ms/step - loss: 0.4637 - acc: 0.9700\n",
      "293/293 [==============================] - 221s 755ms/step - loss: 0.6630 - acc: 0.9580 - val_loss: 0.4637 - val_acc: 0.9700\n",
      "Epoch 6/10\n",
      "98/98 [==============================] - 55s 562ms/step - loss: 0.5130 - acc: 0.9682\n",
      "293/293 [==============================] - 222s 758ms/step - loss: 0.6680 - acc: 0.9576 - val_loss: 0.5130 - val_acc: 0.9682\n",
      "Epoch 7/10\n",
      "98/98 [==============================] - 55s 562ms/step - loss: 0.4936 - acc: 0.9686\n",
      "293/293 [==============================] - 221s 755ms/step - loss: 0.6645 - acc: 0.9580 - val_loss: 0.4936 - val_acc: 0.9686\n",
      "Epoch 8/10\n",
      "98/98 [==============================] - 55s 562ms/step - loss: 0.7058 - acc: 0.9562\n",
      "293/293 [==============================] - 222s 757ms/step - loss: 0.6519 - acc: 0.9591 - val_loss: 0.7058 - val_acc: 0.9562\n",
      "Epoch 9/10\n",
      "98/98 [==============================] - 55s 563ms/step - loss: 0.5428 - acc: 0.9663\n",
      "293/293 [==============================] - 221s 755ms/step - loss: 0.6937 - acc: 0.9565 - val_loss: 0.5428 - val_acc: 0.9663\n",
      "Epoch 10/10\n",
      "98/98 [==============================] - 55s 561ms/step - loss: 0.4607 - acc: 0.9708\n",
      "293/293 [==============================] - 222s 756ms/step - loss: 0.9446 - acc: 0.9404 - val_loss: 0.4607 - val_acc: 0.9708\n"
     ]
    }
   ],
   "source": [
    "#train the model with train data and check each epoch against test data\n",
    "fit_history = model.fit_generator(train_iter, \n",
    "                                  steps_per_epoch=len(train_iter), \n",
    "                                  #workers=2,\n",
    "                                  epochs=10,\n",
    "                                  validation_data=test_iter,\n",
    "                                  validation_steps=len(test_iter)\n",
    "                    )"
   ]
  },
  {
   "cell_type": "code",
   "execution_count": 7,
   "metadata": {},
   "outputs": [],
   "source": [
    "model.save('vgg16_model.h5')"
   ]
  },
  {
   "cell_type": "code",
   "execution_count": 8,
   "metadata": {},
   "outputs": [
    {
     "data": {
      "image/png": "[encoded data removed]",
      "text/plain": [
       "<Figure size 432x288 with 1 Axes>"
      ]
     },
     "metadata": {},
     "output_type": "display_data"
    },
    {
     "data": {
      "image/png": "[encoded data removed]",
      "text/plain": [
       "<Figure size 432x288 with 1 Axes>"
      ]
     },
     "metadata": {},
     "output_type": "display_data"
    }
   ],
   "source": [
    "%matplotlib inline\n",
    "from matplotlib import pyplot as plt\n",
    "\n",
    "# show procession of training...\n",
    "plt.plot(fit_history.history['loss'])\n",
    "plt.plot(fit_history.history['val_loss'])\n",
    "\n",
    "plt.title('model loss')\n",
    "plt.ylabel('loss')\n",
    "plt.xlabel('epoch')\n",
    "plt.legend(['train', 'test'], loc='upper right')\n",
    "plt.show()\n",
    "\n",
    "plt.plot(fit_history.history['acc'])\n",
    "plt.plot(fit_history.history['val_acc'])\n",
    "\n",
    "plt.title('model accuracy')\n",
    "plt.ylabel('accuracy')\n",
    "plt.xlabel('epoch')\n",
    "plt.legend(['train', 'test'], loc='lower right')\n",
    "plt.show()\n",
    "plt.close()"
   ]
  },
  {
   "cell_type": "code",
   "execution_count": null,
   "metadata": {},
   "outputs": [],
   "source": []
  }
 ],
 "metadata": {
  "kernelspec": {
   "display_name": "Python 3",
   "language": "python",
   "name": "python3"
  },
  "language_info": {
   "codemirror_mode": {
    "name": "ipython",
    "version": 3
   },
   "file_extension": ".py",
   "mimetype": "text/x-python",
   "name": "python",
   "nbconvert_exporter": "python",
   "pygments_lexer": "ipython3",
   "version": "3.6.8"
  }
 },
 "nbformat": 4,
 "nbformat_minor": 2
}
