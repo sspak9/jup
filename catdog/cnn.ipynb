{
 "cells": [
  {
   "cell_type": "markdown",
   "metadata": {},
   "source": [
    "### cnn model\n"
   ]
  },
  {
   "cell_type": "code",
   "execution_count": 62,
   "metadata": {},
   "outputs": [],
   "source": [
    "import numpy as np\n",
    "import keras\n",
    "import glob\n",
    "import cv2"
   ]
  },
  {
   "cell_type": "code",
   "execution_count": 63,
   "metadata": {},
   "outputs": [
    {
     "name": "stdout",
     "output_type": "stream",
     "text": [
      "image - h,w,c: 224 224 3\n"
     ]
    }
   ],
   "source": [
    "# read one image to veify size\n",
    "test_images = glob.glob('test/*/*.jpg')\n",
    "train_images = glob.glob('train/*/*.jpg')\n",
    "\n",
    "single_image = test_images[0]\n",
    "img = cv2.imread(single_image)\n",
    "h,w,c = img.shape\n",
    "print('image - h,w,c:',h,w,c)"
   ]
  },
  {
   "cell_type": "code",
   "execution_count": 64,
   "metadata": {},
   "outputs": [
    {
     "name": "stdout",
     "output_type": "stream",
     "text": [
      "Found 18705 images belonging to 2 classes.\n",
      "Found 6241 images belonging to 2 classes.\n",
      "length of iterations for train,test: 293 98\n"
     ]
    }
   ],
   "source": [
    "input_shape=(h,w,c)\n",
    "batch_size=64\n",
    "\n",
    "datagen = keras.preprocessing.image.ImageDataGenerator(rescale = (1.0/255.0))\n",
    "                                                       \n",
    "train_iter = datagen.flow_from_directory('train/',class_mode='binary', target_size=(h,h), batch_size=batch_size)\n",
    "test_iter = datagen.flow_from_directory('test/',class_mode='binary', target_size=(h,h), batch_size=batch_size)\n",
    "\n",
    "print('length of iterations for train,test:', len(train_iter), len(test_iter))\n",
    "                                                     "
   ]
  },
  {
   "cell_type": "code",
   "execution_count": null,
   "metadata": {},
   "outputs": [
    {
     "name": "stdout",
     "output_type": "stream",
     "text": [
      "_________________________________________________________________\n",
      "Layer (type)                 Output Shape              Param #   \n",
      "=================================================================\n",
      "conv2d_31 (Conv2D)           (None, 224, 224, 32)      896       \n",
      "_________________________________________________________________\n",
      "max_pooling2d_26 (MaxPooling (None, 112, 112, 32)      0         \n",
      "_________________________________________________________________\n",
      "conv2d_32 (Conv2D)           (None, 110, 110, 64)      18496     \n",
      "_________________________________________________________________\n",
      "max_pooling2d_27 (MaxPooling (None, 55, 55, 64)        0         \n",
      "_________________________________________________________________\n",
      "conv2d_33 (Conv2D)           (None, 53, 53, 128)       73856     \n",
      "_________________________________________________________________\n",
      "max_pooling2d_28 (MaxPooling (None, 26, 26, 128)       0         \n",
      "_________________________________________________________________\n",
      "dropout_19 (Dropout)         (None, 26, 26, 128)       0         \n",
      "_________________________________________________________________\n",
      "flatten_10 (Flatten)         (None, 86528)             0         \n",
      "_________________________________________________________________\n",
      "dense_19 (Dense)             (None, 512)               44302848  \n",
      "_________________________________________________________________\n",
      "dropout_20 (Dropout)         (None, 512)               0         \n",
      "_________________________________________________________________\n",
      "dense_20 (Dense)             (None, 1)                 513       \n",
      "=================================================================\n",
      "Total params: 44,396,609\n",
      "Trainable params: 44,396,609\n",
      "Non-trainable params: 0\n",
      "_________________________________________________________________\n"
     ]
    }
   ],
   "source": [
    "\n",
    "model = keras.models.Sequential()\n",
    "model.add( keras.layers.Conv2D(32, kernel_size=(3,3), input_shape=input_shape , padding='same' , activation='relu' ))\n",
    "model.add( keras.layers.MaxPooling2D(pool_size=(2,2)))\n",
    "\n",
    "model.add( keras.layers.Conv2D(64, kernel_size=(3,3), activation='relu'))\n",
    "model.add( keras.layers.MaxPooling2D(pool_size=(2,2)))\n",
    "\n",
    "model.add( keras.layers.Conv2D(128, kernel_size=(3,3), activation='relu'))\n",
    "model.add( keras.layers.MaxPooling2D(pool_size=(2,2)))\n",
    "\n",
    "model.add( keras.layers.Dropout(0.5))\n",
    "\n",
    "model.add( keras.layers.Flatten())\n",
    "model.add( keras.layers.Dense(512,activation='relu'))\n",
    "\n",
    "model.add( keras.layers.Dropout(0.5))\n",
    "model.add( keras.layers.Dense(1, activation='sigmoid'))\n",
    "\n",
    "# compile model\n",
    "opt = keras.optimizers.SGD(lr=0.001, momentum=0.9)\n",
    "model.compile(optimizer=opt, loss='binary_crossentropy', metrics=['accuracy'])\n",
    "model.summary()"
   ]
  },
  {
   "cell_type": "code",
   "execution_count": null,
   "metadata": {},
   "outputs": [
    {
     "name": "stdout",
     "output_type": "stream",
     "text": [
      "Epoch 1/10\n"
     ]
    }
   ],
   "source": [
    "#train the model with train data\n",
    "fit_history = model.fit_generator(train_iter, \n",
    "                                  steps_per_epoch=len(train_iter), \n",
    "                                  #workers=2,\n",
    "                                  epochs=10,\n",
    "                                  validation_data=test_iter,\n",
    "                                  validation_steps=len(test_iter)\n",
    "                    )"
   ]
  },
  {
   "cell_type": "code",
   "execution_count": null,
   "metadata": {},
   "outputs": [],
   "source": []
  }
 ],
 "metadata": {
  "kernelspec": {
   "display_name": "Python 3",
   "language": "python",
   "name": "python3"
  },
  "language_info": {
   "codemirror_mode": {
    "name": "ipython",
    "version": 3
   },
   "file_extension": ".py",
   "mimetype": "text/x-python",
   "name": "python",
   "nbconvert_exporter": "python",
   "pygments_lexer": "ipython3",
   "version": "3.6.8"
  }
 },
 "nbformat": 4,
 "nbformat_minor": 2
}
