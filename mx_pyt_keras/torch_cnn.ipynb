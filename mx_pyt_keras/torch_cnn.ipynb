{
 "cells": [
  {
   "cell_type": "code",
   "execution_count": 1,
   "metadata": {},
   "outputs": [],
   "source": [
    "import torch\n",
    "import torch.nn as nn\n",
    "import torch.nn.functional as F\n",
    "import torch.optim as optim\n",
    "from torchvision import datasets, transforms"
   ]
  },
  {
   "cell_type": "code",
   "execution_count": 2,
   "metadata": {},
   "outputs": [],
   "source": [
    "batch_size=64\n",
    "test_batch_size=64\n",
    "lr = 0.001\n",
    "momentum = 0.001\n",
    "epochs = 10\n",
    "log_interval = 200"
   ]
  },
  {
   "cell_type": "code",
   "execution_count": 3,
   "metadata": {},
   "outputs": [],
   "source": [
    "class Net(nn.Module):\n",
    "    def __init__(self):\n",
    "        super(Net, self).__init__()\n",
    "        self.conv1 = nn.Conv2d(1, 32, 3, 1)\n",
    "        self.conv2 = nn.Conv2d(32, 64, 3, 1)\n",
    "        self.drop_out = nn.Dropout()\n",
    "        self.fc1 = nn.Linear(5*5*64, 512)\n",
    "        self.fc2 = nn.Linear(512, 10)\n",
    "\n",
    "    def forward(self, x):\n",
    "        x = F.relu(self.conv1(x))\n",
    "        x = F.max_pool2d(x, 2, 2)\n",
    "        x = F.relu(self.conv2(x))\n",
    "        x = F.max_pool2d(x, 2, 2)\n",
    "        x = x.view(x.size(0), -1)\n",
    "        x = self.drop_out(x)\n",
    "        x = F.relu(self.fc1(x))\n",
    "        x = self.fc2(x)\n",
    "        return F.log_softmax(x, dim=1)\n",
    "    \n"
   ]
  },
  {
   "cell_type": "code",
   "execution_count": 4,
   "metadata": {},
   "outputs": [],
   "source": [
    "def train(model, device, train_loader, optimizer, epoch):\n",
    "    model.train()\n",
    "    for batch_idx, (data, target) in enumerate(train_loader):\n",
    "        data, target = data.to(device), target.to(device)\n",
    "        optimizer.zero_grad()\n",
    "        output = model(data)\n",
    "        loss = F.nll_loss(output, target)\n",
    "        loss.backward()\n",
    "        optimizer.step()\n",
    "        if batch_idx % log_interval == 0:\n",
    "            print('Train Epoch: {} [{}/{} ({:.0f}%)]\\tLoss: {:.6f}'.format(\n",
    "                epoch, batch_idx * len(data), len(train_loader.dataset),\n",
    "                100. * batch_idx / len(train_loader), loss.item()))\n"
   ]
  },
  {
   "cell_type": "code",
   "execution_count": 5,
   "metadata": {},
   "outputs": [],
   "source": [
    "def test(model, device, test_loader):\n",
    "    model.eval()\n",
    "    test_loss = 0\n",
    "    correct = 0\n",
    "    with torch.no_grad():\n",
    "        for data, target in test_loader:\n",
    "            data, target = data.to(device), target.to(device)\n",
    "            output = model(data)\n",
    "            test_loss += F.nll_loss(output, target, reduction='sum').item() # sum up batch loss\n",
    "            pred = output.argmax(dim=1, keepdim=True) # get the index of the max log-probability\n",
    "            correct += pred.eq(target.view_as(pred)).sum().item()\n",
    "\n",
    "    test_loss /= len(test_loader.dataset)\n",
    "\n",
    "    print('\\nTest set: Average loss: {:.4f}, Accuracy: {}/{} ({:.0f}%)\\n'.format(\n",
    "        test_loss, correct, len(test_loader.dataset),\n",
    "        100. * correct / len(test_loader.dataset)))\n"
   ]
  },
  {
   "cell_type": "code",
   "execution_count": 6,
   "metadata": {},
   "outputs": [],
   "source": [
    "use_cuda = torch.cuda.is_available()"
   ]
  },
  {
   "cell_type": "code",
   "execution_count": 7,
   "metadata": {},
   "outputs": [
    {
     "data": {
      "text/plain": [
       "device(type='cpu')"
      ]
     },
     "execution_count": 7,
     "metadata": {},
     "output_type": "execute_result"
    }
   ],
   "source": [
    "device = torch.device(\"cuda\" if use_cuda else \"cpu\")\n",
    "device"
   ]
  },
  {
   "cell_type": "code",
   "execution_count": 8,
   "metadata": {},
   "outputs": [
    {
     "data": {
      "text/plain": [
       "{}"
      ]
     },
     "execution_count": 8,
     "metadata": {},
     "output_type": "execute_result"
    }
   ],
   "source": [
    "kwargs = {'num_workers': 1, 'pin_memory': True} if use_cuda else {}\n",
    "kwargs"
   ]
  },
  {
   "cell_type": "code",
   "execution_count": 9,
   "metadata": {},
   "outputs": [
    {
     "name": "stderr",
     "output_type": "stream",
     "text": [
      "\r",
      "0it [00:00, ?it/s]"
     ]
    },
    {
     "name": "stdout",
     "output_type": "stream",
     "text": [
      "Downloading http://yann.lecun.com/exdb/mnist/train-images-idx3-ubyte.gz to ../data/MNIST/raw/train-images-idx3-ubyte.gz\n"
     ]
    },
    {
     "name": "stderr",
     "output_type": "stream",
     "text": [
      "9920512it [00:03, 3111553.18it/s]                             \n"
     ]
    },
    {
     "name": "stdout",
     "output_type": "stream",
     "text": [
      "Extracting ../data/MNIST/raw/train-images-idx3-ubyte.gz\n"
     ]
    },
    {
     "name": "stderr",
     "output_type": "stream",
     "text": [
      "\r",
      "0it [00:00, ?it/s]"
     ]
    },
    {
     "name": "stdout",
     "output_type": "stream",
     "text": [
      "Downloading http://yann.lecun.com/exdb/mnist/train-labels-idx1-ubyte.gz to ../data/MNIST/raw/train-labels-idx1-ubyte.gz\n"
     ]
    },
    {
     "name": "stderr",
     "output_type": "stream",
     "text": [
      "32768it [00:00, 101513.07it/s]           \n",
      "0it [00:00, ?it/s]"
     ]
    },
    {
     "name": "stdout",
     "output_type": "stream",
     "text": [
      "Extracting ../data/MNIST/raw/train-labels-idx1-ubyte.gz\n",
      "Downloading http://yann.lecun.com/exdb/mnist/t10k-images-idx3-ubyte.gz to ../data/MNIST/raw/t10k-images-idx3-ubyte.gz\n"
     ]
    },
    {
     "name": "stderr",
     "output_type": "stream",
     "text": [
      "1654784it [00:01, 1384246.47it/s]                           \n",
      "0it [00:00, ?it/s]"
     ]
    },
    {
     "name": "stdout",
     "output_type": "stream",
     "text": [
      "Extracting ../data/MNIST/raw/t10k-images-idx3-ubyte.gz\n",
      "Downloading http://yann.lecun.com/exdb/mnist/t10k-labels-idx1-ubyte.gz to ../data/MNIST/raw/t10k-labels-idx1-ubyte.gz\n"
     ]
    },
    {
     "name": "stderr",
     "output_type": "stream",
     "text": [
      "8192it [00:00, 33585.46it/s]            \n"
     ]
    },
    {
     "name": "stdout",
     "output_type": "stream",
     "text": [
      "Extracting ../data/MNIST/raw/t10k-labels-idx1-ubyte.gz\n",
      "Processing...\n",
      "Done!\n"
     ]
    }
   ],
   "source": [
    "train_loader = torch.utils.data.DataLoader(\n",
    "        datasets.MNIST('../data', train=True, download=True,\n",
    "                       transform=transforms.Compose([\n",
    "                           transforms.ToTensor(),\n",
    "                           transforms.Normalize((0.1307,), (0.3081,))\n",
    "                       ])),\n",
    "        batch_size=batch_size, shuffle=True, **kwargs)\n",
    "\n",
    "test_loader = torch.utils.data.DataLoader(\n",
    "    datasets.MNIST('../data', train=False, transform=transforms.Compose([\n",
    "                       transforms.ToTensor(),\n",
    "                       transforms.Normalize((0.1307,), (0.3081,))\n",
    "                   ])),\n",
    "    batch_size=test_batch_size, shuffle=True, **kwargs)\n"
   ]
  },
  {
   "cell_type": "code",
   "execution_count": 10,
   "metadata": {
    "scrolled": true
   },
   "outputs": [
    {
     "name": "stdout",
     "output_type": "stream",
     "text": [
      "Train Epoch: 1 [0/60000 (0%)]\tLoss: 2.302917\n",
      "Train Epoch: 1 [12800/60000 (21%)]\tLoss: 2.260669\n",
      "Train Epoch: 1 [25600/60000 (43%)]\tLoss: 2.162899\n",
      "Train Epoch: 1 [38400/60000 (64%)]\tLoss: 1.954748\n",
      "Train Epoch: 1 [51200/60000 (85%)]\tLoss: 1.789925\n",
      "\n",
      "Test set: Average loss: 1.2702, Accuracy: 7399/10000 (74%)\n",
      "\n",
      "Train Epoch: 2 [0/60000 (0%)]\tLoss: 1.399159\n",
      "Train Epoch: 2 [12800/60000 (21%)]\tLoss: 1.201222\n",
      "Train Epoch: 2 [25600/60000 (43%)]\tLoss: 0.868683\n",
      "Train Epoch: 2 [38400/60000 (64%)]\tLoss: 0.704095\n",
      "Train Epoch: 2 [51200/60000 (85%)]\tLoss: 0.525111\n",
      "\n",
      "Test set: Average loss: 0.5336, Accuracy: 8580/10000 (86%)\n",
      "\n",
      "Train Epoch: 3 [0/60000 (0%)]\tLoss: 0.805290\n",
      "Train Epoch: 3 [12800/60000 (21%)]\tLoss: 0.570154\n",
      "Train Epoch: 3 [25600/60000 (43%)]\tLoss: 0.592398\n",
      "Train Epoch: 3 [38400/60000 (64%)]\tLoss: 0.658759\n",
      "Train Epoch: 3 [51200/60000 (85%)]\tLoss: 0.422037\n",
      "\n",
      "Test set: Average loss: 0.4062, Accuracy: 8828/10000 (88%)\n",
      "\n",
      "Train Epoch: 4 [0/60000 (0%)]\tLoss: 0.600188\n",
      "Train Epoch: 4 [12800/60000 (21%)]\tLoss: 0.779362\n",
      "Train Epoch: 4 [25600/60000 (43%)]\tLoss: 0.677294\n",
      "Train Epoch: 4 [38400/60000 (64%)]\tLoss: 0.621921\n",
      "Train Epoch: 4 [51200/60000 (85%)]\tLoss: 0.465885\n",
      "\n",
      "Test set: Average loss: 0.3364, Accuracy: 9055/10000 (91%)\n",
      "\n",
      "Train Epoch: 5 [0/60000 (0%)]\tLoss: 0.459675\n",
      "Train Epoch: 5 [12800/60000 (21%)]\tLoss: 0.375315\n",
      "Train Epoch: 5 [25600/60000 (43%)]\tLoss: 0.298808\n",
      "Train Epoch: 5 [38400/60000 (64%)]\tLoss: 0.362723\n",
      "Train Epoch: 5 [51200/60000 (85%)]\tLoss: 0.488187\n",
      "\n",
      "Test set: Average loss: 0.2953, Accuracy: 9174/10000 (92%)\n",
      "\n",
      "Train Epoch: 6 [0/60000 (0%)]\tLoss: 0.331230\n",
      "Train Epoch: 6 [12800/60000 (21%)]\tLoss: 0.318601\n",
      "Train Epoch: 6 [25600/60000 (43%)]\tLoss: 0.611756\n",
      "Train Epoch: 6 [38400/60000 (64%)]\tLoss: 0.585170\n",
      "Train Epoch: 6 [51200/60000 (85%)]\tLoss: 0.368675\n",
      "\n",
      "Test set: Average loss: 0.2618, Accuracy: 9261/10000 (93%)\n",
      "\n",
      "Train Epoch: 7 [0/60000 (0%)]\tLoss: 0.336352\n",
      "Train Epoch: 7 [12800/60000 (21%)]\tLoss: 0.509122\n",
      "Train Epoch: 7 [25600/60000 (43%)]\tLoss: 0.224536\n",
      "Train Epoch: 7 [38400/60000 (64%)]\tLoss: 0.253317\n",
      "Train Epoch: 7 [51200/60000 (85%)]\tLoss: 0.445663\n",
      "\n",
      "Test set: Average loss: 0.2344, Accuracy: 9336/10000 (93%)\n",
      "\n",
      "Train Epoch: 8 [0/60000 (0%)]\tLoss: 0.140868\n",
      "Train Epoch: 8 [12800/60000 (21%)]\tLoss: 0.316915\n",
      "Train Epoch: 8 [25600/60000 (43%)]\tLoss: 0.382672\n",
      "Train Epoch: 8 [38400/60000 (64%)]\tLoss: 0.363391\n",
      "Train Epoch: 8 [51200/60000 (85%)]\tLoss: 0.288124\n",
      "\n",
      "Test set: Average loss: 0.2124, Accuracy: 9396/10000 (94%)\n",
      "\n",
      "Train Epoch: 9 [0/60000 (0%)]\tLoss: 0.490421\n",
      "Train Epoch: 9 [12800/60000 (21%)]\tLoss: 0.152627\n",
      "Train Epoch: 9 [25600/60000 (43%)]\tLoss: 0.222807\n",
      "Train Epoch: 9 [38400/60000 (64%)]\tLoss: 0.201014\n",
      "Train Epoch: 9 [51200/60000 (85%)]\tLoss: 0.174903\n",
      "\n",
      "Test set: Average loss: 0.1932, Accuracy: 9433/10000 (94%)\n",
      "\n",
      "Train Epoch: 10 [0/60000 (0%)]\tLoss: 0.157475\n",
      "Train Epoch: 10 [12800/60000 (21%)]\tLoss: 0.229390\n",
      "Train Epoch: 10 [25600/60000 (43%)]\tLoss: 0.202958\n",
      "Train Epoch: 10 [38400/60000 (64%)]\tLoss: 0.132009\n",
      "Train Epoch: 10 [51200/60000 (85%)]\tLoss: 0.183385\n",
      "\n",
      "Test set: Average loss: 0.1784, Accuracy: 9480/10000 (95%)\n",
      "\n"
     ]
    }
   ],
   "source": [
    "model = Net().to(device)\n",
    "optimizer = optim.SGD(model.parameters(), lr=lr, momentum=momentum)\n",
    "\n",
    "for epoch in range(1,epochs + 1):\n",
    "    train(model, device, train_loader, optimizer, epoch)\n",
    "    test(model, device, test_loader)"
   ]
  },
  {
   "cell_type": "code",
   "execution_count": null,
   "metadata": {},
   "outputs": [],
   "source": []
  }
 ],
 "metadata": {
  "kernelspec": {
   "display_name": "Python 3",
   "language": "python",
   "name": "python3"
  },
  "language_info": {
   "codemirror_mode": {
    "name": "ipython",
    "version": 3
   },
   "file_extension": ".py",
   "mimetype": "text/x-python",
   "name": "python",
   "nbconvert_exporter": "python",
   "pygments_lexer": "ipython3",
   "version": "3.6.8"
  }
 },
 "nbformat": 4,
 "nbformat_minor": 2
}
