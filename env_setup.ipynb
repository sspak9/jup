{
 "cells": [
  {
   "cell_type": "markdown",
   "metadata": {},
   "source": [
    "### Setting up local environment  for machine learning\n",
    "Focused on using Keras with Tensorflow and PyTorch\n",
    "\n",
    "#### Assuming Windows Installation\n",
    "\n",
    "High Level Steps:\n",
    "1. Install Python version 3.6.* (latest is 3.6.8)\n",
    "2. Get get-pip.py ( You may need to setup proxy if behind firewall)\n",
    "3. Using pip, install the minimum python modules\n",
    "4. Install Pytorch manually\n",
    "5. Optionally install plaidml keras backend\n",
    "\n"
   ]
  },
  {
   "cell_type": "markdown",
   "metadata": {},
   "source": [
    "#### Install Python 3.6.8 on Windows\n",
    "\n",
    "download the 64bit version from\n",
    "https://www.python.org/downloads/\n",
    "\n",
    "Install to non-standard path ( Not under Program... folder ) and include in the path\n",
    "\n",
    "![Install](images/python_install.jpg)\n",
    "\n",
    "Once installed, reboot\n",
    "\n",
    "Then open a command window and type:\n",
    "```\n",
    "python --version\n",
    "```\n",
    "\n",
    "You should see somthing like:\n",
    "```\n",
    "Python 3.6.8\n",
    "```"
   ]
  },
  {
   "cell_type": "markdown",
   "metadata": {},
   "source": [
    "#### Down the latest get-pip.py\n",
    "\n",
    "Using a web browser, navigate to:\n",
    "\n",
    "https://bootstrap.pypa.io/get-pip.py\n",
    "\n",
    "And save the content to to a file: `get-pip.py`"
   ]
  },
  {
   "cell_type": "markdown",
   "metadata": {},
   "source": [
    "#### setup proxy before downloading pip\n",
    "\n",
    "open command window and execute:\n",
    "```dos\n",
    "set http_proxy=http://proxy.companyname.com:port\n",
    "set https_proxy=http(s)://same as above\n",
    "\n",
    "or\n",
    "\n",
    "set https_proxy=http(s)://'id:pw'@proxy.companyname.com:port\n",
    "```"
   ]
  },
  {
   "cell_type": "markdown",
   "metadata": {},
   "source": [
    "Execute below to download pip\n",
    "```\n",
    "python get-pip.py\n",
    "```"
   ]
  },
  {
   "cell_type": "markdown",
   "metadata": {},
   "source": [
    "#### download python modules using pip -r requirement.txt\n",
    "\n",
    "create a file: `requirement.txt` with the following content:\n",
    "```\n",
    "absl-py >= 0.7.0\n",
    "astor >= 0.6.0\n",
    "gast >= 0.2.0\n",
    "google_pasta >= 0.1.2\n",
    "keras_applications >= 1.0.6\n",
    "keras_preprocessing >= 1.0.5\n",
    "numpy >= 1.14.5, < 2.0\n",
    "six >= 1.10.0\n",
    "protobuf >= 3.6.1\n",
    "tensorboard >= 1.13.0, < 1.14.0\n",
    "tensorflow_estimator >= 1.13.0rc0, < 1.14.0rc0\n",
    "termcolor >= 1.1.0\n",
    "urllib3\n",
    "pyYAML\n",
    "scipy\n",
    "matplotlib\n",
    "pillow\n",
    "simpy\n",
    "nose\n",
    "pydot\n",
    "pandas\n",
    "nltk\n",
    "spacy\n",
    "scikit-learn\n",
    "tensorflow==1.13.1\n",
    "jupyter\n",
    "notebook\n",
    "keras\n",
    "```\n",
    "\n",
    "Execute below to start auto downloading the modules:\n",
    "```\n",
    "python -m pip -r requirements.txt\n",
    "```"
   ]
  },
  {
   "cell_type": "markdown",
   "metadata": {},
   "source": [
    "#### Manually download and install PyTorch\n",
    "\n",
    "https://pytorch.org/get-started/locally/\n",
    "\n",
    "![PyTorch](images/pytorch.jpg)\n",
    "\n",
    "Click the appropriate boxes and execute the command that appears\n"
   ]
  },
  {
   "cell_type": "markdown",
   "metadata": {},
   "source": [
    "#### Verify everything with Jupyter Notebook\n",
    "\n",
    "Execute below to bring up jupyter notebook\n",
    "```\n",
    "jupyter notebook\n",
    "```\n",
    "\n",
    "And run the below"
   ]
  },
  {
   "cell_type": "code",
   "execution_count": 3,
   "metadata": {},
   "outputs": [
    {
     "name": "stdout",
     "output_type": "stream",
     "text": [
      "torch version: 1.0.1\n",
      "tensorflow version: 1.13.1\n",
      "keras version: 2.2.4-tf\n"
     ]
    }
   ],
   "source": [
    "import torch\n",
    "import tensorflow as tf\n",
    "from tensorflow import keras\n",
    "\n",
    "print('torch version:', torch.__version__)\n",
    "print('tensorflow version:', tf.__version__)\n",
    "print('keras version:', keras.__version__)"
   ]
  },
  {
   "cell_type": "code",
   "execution_count": null,
   "metadata": {},
   "outputs": [],
   "source": []
  }
 ],
 "metadata": {
  "kernelspec": {
   "display_name": "Python 3",
   "language": "python",
   "name": "python3"
  },
  "language_info": {
   "codemirror_mode": {
    "name": "ipython",
    "version": 3
   },
   "file_extension": ".py",
   "mimetype": "text/x-python",
   "name": "python",
   "nbconvert_exporter": "python",
   "pygments_lexer": "ipython3",
   "version": "3.6.8"
  }
 },
 "nbformat": 4,
 "nbformat_minor": 2
}
