{
 "cells": [
  {
   "cell_type": "code",
   "execution_count": null,
   "metadata": {},
   "outputs": [],
   "source": [
    "import cv2\n",
    "import dlib"
   ]
  },
  {
   "cell_type": "code",
   "execution_count": null,
   "metadata": {},
   "outputs": [],
   "source": [
    "print('cv2 version:', cv2.__version__)\n",
    "print('dlib version:',dlib.__version__)"
   ]
  },
  {
   "cell_type": "code",
   "execution_count": null,
   "metadata": {},
   "outputs": [],
   "source": [
    "# For using CPU only, I modified the routine to capture video into images first\n",
    "# and batch process the images later, which takes a while to complete without a GPU\n",
    "\n",
    "max_image = 100\n",
    "\n",
    "# you need save_dir pre-created\n",
    "save_dir = 'save_image'\n",
    "\n",
    "# increase this number to capture more 'different' frames\n",
    "skip_frames=45\n",
    "\n",
    "count = skip_frames;\n",
    "index = 1\n",
    "\n",
    "video_capture = cv2.VideoCapture(0)\n",
    "\n",
    "while True:\n",
    "    # Capture frame-by-frame\n",
    "    \n",
    "    if count >= 0:\n",
    "        ret, frame = video_capture.read()\n",
    "        cv2.imshow('frame',frame)\n",
    "        cv2.waitKey(1)\n",
    "        count -= 1\n",
    "    \n",
    "    count = skip_frames\n",
    "    file_name = save_dir + '/' + 'frame_' + str(index) + '.jpg';\n",
    "    \n",
    "    # write\n",
    "    print('writing frame:', index)\n",
    "    cv2.imwrite(file_name , frame)\n",
    "    \n",
    "    index += 1\n",
    "    if index > max_image:\n",
    "        break\n",
    "\n",
    "video_capture.release()\n",
    "cv2.destroyAllWindows()"
   ]
  },
  {
   "cell_type": "code",
   "execution_count": null,
   "metadata": {},
   "outputs": [],
   "source": [
    "# you need a dlib compiled with GPU to work well\n",
    "\n",
    "shape_file = 'shape_predictor_68_face_landmarks.dat'\n",
    "feature_detector = predictor = dlib.shape_predictor(shape_file)\n",
    "\n",
    "face_file = 'mmod_human_face_detector.dat'\n",
    "face_detector = dlib.cnn_face_detection_model_v1(face_file)"
   ]
  },
  {
   "cell_type": "code",
   "execution_count": null,
   "metadata": {
    "scrolled": true
   },
   "outputs": [],
   "source": [
    "## some videowriter props\n",
    "\n",
    "cap = cv2.VideoCapture(0)\n",
    "\n",
    "sz = (int(cap.get(cv2.CAP_PROP_FRAME_WIDTH)),\n",
    "        int(cap.get(cv2.CAP_PROP_FRAME_HEIGHT)))\n",
    "\n",
    "cap.release()\n",
    "cv2.destroyAllWindows()\n",
    "\n",
    "# increase this number for smoother mp4 play.\n",
    "fps = 5\n",
    "\n",
    "#fourcc = cv2.VideoWriter_fourcc('m', 'p', '4', 'v')\n",
    "#fourcc = cv2.VideoWriter_fourcc('m', 'p', 'e', 'g')\n",
    "fourcc = cv2.VideoWriter_fourcc(*'mpeg')\n",
    "\n",
    "## open and set props\n",
    "vout = cv2.VideoWriter()\n",
    "vout.open('output.mp4',fourcc,fps,sz,True)\n",
    "\n",
    "\n",
    "for i in range(max_image):\n",
    "    file_name = save_dir + '/' + 'frame_' + str(i+1) + '.jpg';\n",
    "    \n",
    "    print('detecting face for image:', file_name)\n",
    "    \n",
    "    frame = cv2.imread(file_name,cv2.IMREAD_COLOR )\n",
    "    \n",
    "    # convert to rgb for dlib\n",
    "    img = cv2.cvtColor(frame, cv2.COLOR_BGR2RGB)\n",
    "    \n",
    "    # detect faces\n",
    "    dets = face_detector(img, 1)\n",
    "    \n",
    "    # rectangles around faces\n",
    "    for i, d in enumerate(dets):\n",
    "        x = d.rect.left()\n",
    "        y = d.rect.top()\n",
    "        x2 = d.rect.right()\n",
    "        y2 = d.rect.bottom()\n",
    "        \n",
    "        cv2.rectangle(frame, (x, y), (x2, y2), (0, 255, 0), 2)\n",
    "        \n",
    "        # detect features\n",
    "        coor = feature_detector(img , d.rect)\n",
    "        if not coor is None:\n",
    "            for f in range(0,68):\n",
    "                cv2.circle(frame , (coor.part(f).x , coor.part(f).y) , 1, (255,255,255),1 )\n",
    "    \n",
    "    vout.write(frame)\n",
    "    \n",
    "vout.release()"
   ]
  },
  {
   "cell_type": "code",
   "execution_count": null,
   "metadata": {},
   "outputs": [],
   "source": []
  }
 ],
 "metadata": {
  "kernelspec": {
   "display_name": "Python 3",
   "language": "python",
   "name": "python3"
  },
  "language_info": {
   "codemirror_mode": {
    "name": "ipython",
    "version": 3
   },
   "file_extension": ".py",
   "mimetype": "text/x-python",
   "name": "python",
   "nbconvert_exporter": "python",
   "pygments_lexer": "ipython3",
   "version": "3.6.8"
  }
 },
 "nbformat": 4,
 "nbformat_minor": 2
}
