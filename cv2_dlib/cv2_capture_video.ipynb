{
 "cells": [
  {
   "cell_type": "markdown",
   "metadata": {},
   "source": [
    "### Capture Video using OpenCv\n",
    "\n",
    "OpenCV is a very popular computer vision tool.\n",
    "There is a python wrapper that you can install\n",
    "\n",
    "See here: https://pypi.org/project/opencv-python/ for how to install\n",
    "\n",
    "You can install the \"core\" version using `pip install opencv-python` or more rich version using `pip install opencv-contrib-python`\n",
    "\n",
    "The python tutorial is at: https://opencv-python-tutroals.readthedocs.io/en/latest/py_tutorials/py_tutorials.html\n",
    "\n",
    "OpenCV site is at: https://opencv.org/\n",
    "\n",
    "The library is a C++ library and can be compiled to leverage GPU (NVidia CUDA only)\n",
    "\n",
    "The Python wrapper DOES NOT support GPU"
   ]
  },
  {
   "cell_type": "code",
   "execution_count": 1,
   "metadata": {},
   "outputs": [],
   "source": [
    "import cv2\n"
   ]
  },
  {
   "cell_type": "code",
   "execution_count": 2,
   "metadata": {},
   "outputs": [],
   "source": [
    "#capture video from first device\n",
    "# if you have multiple cameras, change the 0 to something else to pick the\n",
    "# desired camera\n",
    "\n",
    "cap = cv2.VideoCapture(0)\n",
    "while True:\n",
    "    # read video image\n",
    "    (_,image)=cap.read()\n",
    "    \n",
    "    #convert to gray if using face recogniztion\n",
    "    # uncomment below, and you will see gray image instead of color\n",
    "    \n",
    "    #image = cv2.cvtColor(image, cv2.COLOR_BGR2GRAY)\n",
    "    \n",
    "    # show it to the window\n",
    "    cv2.imshow('capture window', image)\n",
    "    \n",
    "    # capture key and if return key exit\n",
    "    key = cv2.waitKey(1)\n",
    "    if key == 13:\n",
    "        break\n",
    "\n",
    "cap.release()\n",
    "cv2.destroyWindow('capture window')"
   ]
  }
 ],
 "metadata": {
  "kernelspec": {
   "display_name": "Python 3",
   "language": "python",
   "name": "python3"
  },
  "language_info": {
   "codemirror_mode": {
    "name": "ipython",
    "version": 3
   },
   "file_extension": ".py",
   "mimetype": "text/x-python",
   "name": "python",
   "nbconvert_exporter": "python",
   "pygments_lexer": "ipython3",
   "version": "3.6.8"
  }
 },
 "nbformat": 4,
 "nbformat_minor": 2
}
