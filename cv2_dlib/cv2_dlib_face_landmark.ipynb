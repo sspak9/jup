{
 "cells": [
  {
   "cell_type": "markdown",
   "metadata": {},
   "source": [
    "### A better Face Detection using Dlib\n",
    "Dlib site: http://dlib.net/\n",
    "\n",
    "Qutoe from the site:\n",
    "\n",
    "*Dlib is a modern C++ toolkit containing machine learning algorithms and tools for creating complex software in C++ to solve real world problems.*\n",
    "\n",
    "For any image processing, CUDA (i.e. NVidia GPU processing library ) would be leveraged when compiling.\n",
    "\n",
    "This demo is using a CPU, so the \"refresh\" of the video stream will be about once every 60 seconds or so\n",
    "\n",
    "You will see immediate improvement in detecting faces even when the face slanted or viewed from the side.\n",
    "\n",
    "The facial feature detection attempts to identify where the eye brow, yes, nose, mouth, and chin are\n"
   ]
  },
  {
   "cell_type": "code",
   "execution_count": null,
   "metadata": {},
   "outputs": [],
   "source": [
    "import cv2\n",
    "import dlib"
   ]
  },
  {
   "cell_type": "code",
   "execution_count": null,
   "metadata": {},
   "outputs": [],
   "source": [
    "print('cv2 version:', cv2.__version__)\n",
    "print('dlib version:',dlib.__version__)\n",
    "print('GPU compiled dlib highly recommended...')"
   ]
  },
  {
   "cell_type": "code",
   "execution_count": 3,
   "metadata": {},
   "outputs": [],
   "source": [
    "# you need a dlib compiled with GPU to work well\n",
    "\n",
    "shape_file = 'shape_predictor_68_face_landmarks.dat'\n",
    "feature_detector = predictor = dlib.shape_predictor(shape_file)\n",
    "\n",
    "face_file = 'mmod_human_face_detector.dat'\n",
    "face_detector = dlib.cnn_face_detection_model_v1(face_file)\n"
   ]
  },
  {
   "cell_type": "code",
   "execution_count": 4,
   "metadata": {},
   "outputs": [
    {
     "ename": "KeyboardInterrupt",
     "evalue": "",
     "output_type": "error",
     "traceback": [
      "\u001b[1;31m---------------------------------------------------------------------------\u001b[0m",
      "\u001b[1;31mKeyboardInterrupt\u001b[0m                         Traceback (most recent call last)",
      "\u001b[1;32m<ipython-input-4-a66b91bfba51>\u001b[0m in \u001b[0;36m<module>\u001b[1;34m\u001b[0m\n\u001b[0;32m     10\u001b[0m     \u001b[1;31m# detect faces\u001b[0m\u001b[1;33m\u001b[0m\u001b[1;33m\u001b[0m\u001b[1;33m\u001b[0m\u001b[0m\n\u001b[0;32m     11\u001b[0m     \u001b[1;31m#print('detecting face....')\u001b[0m\u001b[1;33m\u001b[0m\u001b[1;33m\u001b[0m\u001b[1;33m\u001b[0m\u001b[0m\n\u001b[1;32m---> 12\u001b[1;33m     \u001b[0mdets\u001b[0m \u001b[1;33m=\u001b[0m \u001b[0mface_detector\u001b[0m\u001b[1;33m(\u001b[0m\u001b[0mimg\u001b[0m\u001b[1;33m,\u001b[0m \u001b[1;36m1\u001b[0m\u001b[1;33m)\u001b[0m\u001b[1;33m\u001b[0m\u001b[1;33m\u001b[0m\u001b[0m\n\u001b[0m\u001b[0;32m     13\u001b[0m \u001b[1;33m\u001b[0m\u001b[0m\n\u001b[0;32m     14\u001b[0m     \u001b[1;31m# rectangles around faces\u001b[0m\u001b[1;33m\u001b[0m\u001b[1;33m\u001b[0m\u001b[1;33m\u001b[0m\u001b[0m\n",
      "\u001b[1;31mKeyboardInterrupt\u001b[0m: "
     ]
    }
   ],
   "source": [
    "video_capture = cv2.VideoCapture(0)\n",
    "\n",
    "while True:\n",
    "    # Capture frame-by-frame\n",
    "    ret, frame = video_capture.read()\n",
    "    \n",
    "    # convert to rgb for dlib\n",
    "    img = cv2.cvtColor(frame, cv2.COLOR_BGR2GRAY)\n",
    "    \n",
    "    # detect faces\n",
    "    #print('detecting face....')\n",
    "    dets = face_detector(img, 1)\n",
    "    \n",
    "    # rectangles around faces\n",
    "    for i, d in enumerate(dets):\n",
    "        x = d.rect.left()\n",
    "        y = d.rect.top()\n",
    "        x2 = d.rect.right()\n",
    "        y2 = d.rect.bottom()\n",
    "        \n",
    "        cv2.rectangle(frame, (x, y), (x2, y2), (0, 255, 0), 2)\n",
    "        \n",
    "        # feature detection\n",
    "        #print('    detecting features...')\n",
    "        coor = feature_detector(img , d.rect)\n",
    "        if not coor is None:\n",
    "            for f in range(0,68):\n",
    "                cv2.circle(frame , (coor.part(f).x , coor.part(f).y) , 1, (255,255,255),1 )\n",
    "                \n",
    "    cv2.imshow('Video', frame)\n",
    "\n",
    "\n",
    "    if cv2.waitKey(1) == 13:\n",
    "        break\n",
    "\n",
    "# When everything is done, release the capture\n",
    "video_capture.release()\n",
    "cv2.destroyAllWindows()"
   ]
  },
  {
   "cell_type": "code",
   "execution_count": null,
   "metadata": {},
   "outputs": [],
   "source": []
  }
 ],
 "metadata": {
  "kernelspec": {
   "display_name": "Python 3",
   "language": "python",
   "name": "python3"
  }
 },
 "nbformat": 4,
 "nbformat_minor": 2
}
