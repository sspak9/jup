{
 "cells": [
  {
   "cell_type": "code",
   "execution_count": 9,
   "metadata": {},
   "outputs": [],
   "source": [
    "import cv2\n",
    "import dlib"
   ]
  },
  {
   "cell_type": "code",
   "execution_count": 10,
   "metadata": {},
   "outputs": [
    {
     "name": "stdout",
     "output_type": "stream",
     "text": [
      "cv2 version: 4.0.0\n",
      "dlib version: 19.17.0\n",
      "GPU compiled dlib highly recommended...\n"
     ]
    }
   ],
   "source": [
    "print('cv2 version:', cv2.__version__)\n",
    "print('dlib version:',dlib.__version__)\n",
    "print('GPU compiled dlib highly recommended...')"
   ]
  },
  {
   "cell_type": "code",
   "execution_count": 11,
   "metadata": {},
   "outputs": [],
   "source": [
    "# you need a dlib compiled with GPU to work well\n",
    "\n",
    "shape_file = 'shape_predictor_68_face_landmarks.dat'\n",
    "feature_detector = predictor = dlib.shape_predictor(shape_file)\n",
    "\n",
    "face_file = 'mmod_human_face_detector.dat'\n",
    "face_detector = dlib.cnn_face_detection_model_v1(face_file)\n"
   ]
  },
  {
   "cell_type": "code",
   "execution_count": 12,
   "metadata": {},
   "outputs": [
    {
     "name": "stdout",
     "output_type": "stream",
     "text": [
      "detecting face....\n",
      "    detecting features...\n",
      "detecting face....\n",
      "detecting face....\n",
      "detecting face....\n",
      "    detecting features...\n",
      "detecting face....\n",
      "detecting face....\n",
      "detecting face....\n",
      "detecting face....\n",
      "detecting face....\n"
     ]
    }
   ],
   "source": [
    "video_capture = cv2.VideoCapture(0)\n",
    "\n",
    "while True:\n",
    "    # Capture frame-by-frame\n",
    "    ret, frame = video_capture.read()\n",
    "    \n",
    "    # convert to rgb for dlib\n",
    "    img = cv2.cvtColor(frame, cv2.COLOR_BGR2GRAY)\n",
    "    \n",
    "    # detect faces\n",
    "    #print('detecting face....')\n",
    "    dets = face_detector(img, 1)\n",
    "    \n",
    "    # rectangles around faces\n",
    "    for i, d in enumerate(dets):\n",
    "        x = d.rect.left()\n",
    "        y = d.rect.top()\n",
    "        x2 = d.rect.right()\n",
    "        y2 = d.rect.bottom()\n",
    "        \n",
    "        cv2.rectangle(frame, (x, y), (x2, y2), (0, 255, 0), 2)\n",
    "        \n",
    "        # feature detection\n",
    "        #print('    detecting features...')\n",
    "        coor = feature_detector(img , d.rect)\n",
    "        if not coor is None:\n",
    "            for f in range(0,68):\n",
    "                cv2.circle(frame , (coor.part(f).x , coor.part(f).y) , 1, (255,255,255),1 )\n",
    "                \n",
    "    cv2.imshow('Video', frame)\n",
    "\n",
    "\n",
    "    if cv2.waitKey(1) == 13:\n",
    "        break\n",
    "\n",
    "# When everything is done, release the capture\n",
    "video_capture.release()\n",
    "cv2.destroyAllWindows()"
   ]
  },
  {
   "cell_type": "code",
   "execution_count": null,
   "metadata": {},
   "outputs": [],
   "source": []
  }
 ],
 "metadata": {
  "kernelspec": {
   "display_name": "Python 3",
   "language": "python",
   "name": "python3"
  },
  "language_info": {
   "codemirror_mode": {
    "name": "ipython",
    "version": 3
   },
   "file_extension": ".py",
   "mimetype": "text/x-python",
   "name": "python",
   "nbconvert_exporter": "python",
   "pygments_lexer": "ipython3",
   "version": "3.6.8"
  }
 },
 "nbformat": 4,
 "nbformat_minor": 2
}
