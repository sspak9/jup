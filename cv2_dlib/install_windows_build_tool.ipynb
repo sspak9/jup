{
 "cells": [
  {
   "cell_type": "markdown",
   "metadata": {},
   "source": [
    "#### some python installation require that you have a build tool installed on Windows\n",
    "On Windows machine, you can install VS Studio 2015 redistributable and build tools\n",
    "\n",
    "Goto link: https://visualstudio.microsoft.com/vs/older-downloads/\n",
    "\n",
    "And download the following and install\n",
    "![build.png](build.png)\n",
    "\n"
   ]
  },
  {
   "cell_type": "markdown",
   "metadata": {},
   "source": [
    "#### Note: when installing VS 2015 redistributable update 3, it may state that VS 2017 is already installed and cannot install it.\n",
    "In such a case here is a workaround:\n",
    "\n",
    "1. uninstall vs 2017 redistributable\n",
    "2. install vs 2015 redistributable\n",
    "3. install vs 2017 redistributable ( this will hide the vs 2015 )\n",
    "4. Open cmd window and run vc_redist_x64.exe /repair => this will make vs 2015 reappear\n"
   ]
  },
  {
   "cell_type": "code",
   "execution_count": null,
   "metadata": {},
   "outputs": [],
   "source": []
  }
 ],
 "metadata": {
  "kernelspec": {
   "display_name": "Python 3",
   "language": "python",
   "name": "python3"
  },
  "language_info": {
   "codemirror_mode": {
    "name": "ipython",
    "version": 3
   },
   "file_extension": ".py",
   "mimetype": "text/x-python",
   "name": "python",
   "nbconvert_exporter": "python",
   "pygments_lexer": "ipython3",
   "version": "3.6.8"
  }
 },
 "nbformat": 4,
 "nbformat_minor": 2
}
