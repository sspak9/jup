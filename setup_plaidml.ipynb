{
 "cells": [
  {
   "cell_type": "markdown",
   "metadata": {},
   "source": [
    "### Alternative when NVidia CUDA hardware is not available\n",
    "\n",
    "Many machine learning platforms leverage GPU ( NVidia only ) to expedite calculation.\n",
    "Unfortunately, you may NOT have the supported NVidia/Driver combo.\n",
    "\n",
    "An alternative is to use plaidml keras backend that allows you to leverage Non-NVidia GPU\n",
    "\n",
    "Link: https://github.com/plaidml/plaidml\n"
   ]
  },
  {
   "cell_type": "markdown",
   "metadata": {},
   "source": [
    "#### installing the plaidml\n",
    "\n",
    "Install ML learning environment first, including Keras\n",
    "\n",
    "Using pip ( or pip3 ) execute the following to install plaidml\n",
    "```\n",
    "pip install plaidml-keras plaidbench\n",
    "```"
   ]
  },
  {
   "cell_type": "markdown",
   "metadata": {},
   "source": [
    "#### configure plaidml\n",
    "You have to setup the plaiml to use the existing non-NVidia GPU.\n",
    "run `plaidml-setup`\n",
    "\n",
    "Depending on your GPU card, what you see will be different.\n",
    "\n",
    "```\n",
    "PlaidML Setup (0.5.0)\n",
    "\n",
    "Thanks for using PlaidML!\n",
    "\n",
    "Some Notes:\n",
    "  * Bugs and other issues: https://github.com/plaidml/plaidml\n",
    "  * Questions: https://stackoverflow.com/questions/tagged/plaidml\n",
    "  * Say hello: https://groups.google.com/forum/#!forum/plaidml-dev\n",
    "  * PlaidML is licensed under the GNU AGPLv3\n",
    "\n",
    "Default Config Devices:\n",
    "   opencl_nvidia_quadro_p1000.0 : NVIDIA Corporation Quadro P1000 (OpenCL)\n",
    "\n",
    "Experimental Config Devices:\n",
    "   opencl_nvidia_quadro_p1000.0 : NVIDIA Corporation Quadro P1000 (OpenCL)\n",
    "\n",
    "Using experimental devices can cause poor performance, crashes, and other nastiness.\n",
    "\n",
    "Enable experimental device support? (y,n)[n]:\n",
    "\n",
    "Selected device:\n",
    "    opencl_nvidia_quadro_p1000.0\n",
    "\n",
    "Almost done. Multiplying some matrices...\n",
    "Tile code:\n",
    "  function (B[X,Z], C[Z,Y]) -> (A) { A[x,y : X,Y] = +(B[x,z] * C[z,y]); }\n",
    "Whew. That worked.\n",
    "\n",
    "Save settings to C:\\Users\\rc37397\\.plaidml? (y,n)[y]:\n",
    "Success!\n",
    "```\n"
   ]
  },
  {
   "cell_type": "markdown",
   "metadata": {},
   "source": [
    "#### Verify plaidml\n",
    "Run the following to verify"
   ]
  },
  {
   "cell_type": "code",
   "execution_count": 1,
   "metadata": {},
   "outputs": [
    {
     "name": "stderr",
     "output_type": "stream",
     "text": [
      "Using plaidml.keras.backend backend.\n"
     ]
    },
    {
     "name": "stdout",
     "output_type": "stream",
     "text": [
      "keras version: 2.2.4.1\n",
      "keras backend: plaidml.keras.backend\n"
     ]
    }
   ],
   "source": [
    "import keras\n",
    "\n",
    "print('keras version:',keras.__version__)\n",
    "print('keras backend:', keras.backend.backend())\n"
   ]
  },
  {
   "cell_type": "markdown",
   "metadata": {},
   "source": [
    "### run a simple benchmark\n",
    "copy/paste from the plaidml site. Run below:\n",
    "```python\n",
    "plaidbench keras mobilenet\n",
    "```\n",
    "\n",
    "Output:\n",
    "```\n",
    "Running 1024 examples with mobilenet, batch size 1, on backend plaid\n",
    "INFO:plaidml:Opening device \"opencl_nvidia_quadro_p1000.0\"\n",
    "Model loaded.\n",
    "Compiling network... Warming up... Running...\n",
    "Example finished, elapsed: 3.257s (compile), 12.722s (execution)\n",
    "\n",
    "keras opencl_nvidia_quadro_p1000.0\n",
    "-----------------------------------------------------------------------------------------\n",
    "Network Name         Inference Latency         Time / FPS\n",
    "-----------------------------------------------------------------------------------------\n",
    "mobilenet            12.42 ms                  5.40 ms / 185.10 fps\n",
    "Correctness: PASS, max_error: 7.026663752185414e-06, max_abs_error: 4.172325134277344e-07, fail_ratio: 0.0\n",
    "```"
   ]
  },
  {
   "cell_type": "markdown",
   "metadata": {},
   "source": [
    "#### how to switch between backends\n",
    "If you open up the folder: `home/.keras` ( On Windows: `C:\\Users\\id\\.keras` ), there is a file `keras.json`.  This is the file used to switch between keras backends\n",
    "\n",
    "The content of the file is like below for plaidml:\n",
    "```\n",
    "{\n",
    "    \"floatx\": \"float32\",\n",
    "    \"epsilon\": 1e-07,\n",
    "    \"backend\": \"plaidml.keras.backend\",\n",
    "    \"image_data_format\": \"channels_last\"\n",
    "}\n",
    "```\n",
    "For tensorflow:\n",
    "```\n",
    "{\n",
    "    \"floatx\": \"float32\",\n",
    "    \"epsilon\": 1e-07,\n",
    "    \"backend\": \"tensorflow\",\n",
    "    \"image_data_format\": \"channels_last\"\n",
    "}\n",
    "```\n",
    "For MXNET:\n",
    "```\n",
    "{\n",
    "    \"backend\": \"mxnet\",\n",
    "    \"image_data_format\": \"channels_first\"\n",
    "}\n",
    "```\n"
   ]
  },
  {
   "cell_type": "markdown",
   "metadata": {},
   "source": [
    "### Notes/Caution\n",
    "Some keras features are NOT optimized in plaidml, such as traditional 1D processing or word embedding. In such a case, it's best to use the CPU version of the backend, instead of using plaidml.\n",
    "\n",
    "Example: how to force to use tensorflow => explicitly import keras from tensorflow.\n",
    "Notice the difference in keras version and keras backend below:"
   ]
  },
  {
   "cell_type": "code",
   "execution_count": 4,
   "metadata": {},
   "outputs": [
    {
     "name": "stdout",
     "output_type": "stream",
     "text": [
      "keras version: 2.2.4-tf\n",
      "keras backend: tensorflow\n"
     ]
    }
   ],
   "source": [
    "from tensorflow import keras\n",
    "print('keras version:', keras.__version__)\n",
    "print('keras backend:', keras.backend.backend())\n"
   ]
  }
 ],
 "metadata": {
  "kernelspec": {
   "display_name": "Python 3",
   "language": "python",
   "name": "python3"
  },
  "language_info": {
   "codemirror_mode": {
    "name": "ipython",
    "version": 3
   },
   "file_extension": ".py",
   "mimetype": "text/x-python",
   "name": "python",
   "nbconvert_exporter": "python",
   "pygments_lexer": "ipython3",
   "version": "3.6.8"
  }
 },
 "nbformat": 4,
 "nbformat_minor": 2
}
